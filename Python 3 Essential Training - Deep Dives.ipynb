{
 "cells": [
  {
   "cell_type": "markdown",
   "metadata": {},
   "source": [
    "<img src=\"python-logo.png\">\n",
    "\n",
    "\n",
    "# Python 3 Notes and Code Snippets\n",
    "<a id='top'></a>\n",
    "\n",
    "Table of Contents (chapters)\n",
    "* [4. General Syntax](#section4)\n",
    "    * [Try & Except](#section4a)\n",
    "    * [Conditional Assignment](#section4b)\n",
    "* [5. Varibale, Objects & Values](#section5)\n",
    "    * [Using Numbers](#section5a)\n",
    "    * [Using Strings](#section5b)\n",
    "    * [Aggregate values with lists and tuples](#section5c)\n",
    "    * [Creating associative list with dictionaries](#section5d)\n",
    "    * [Finding an identity of a variable](#section5e)\n",
    "    * [Specifying logical values with True and False](#section5f)\n",
    "* [6. Conditionals](#section6)\n",
    "    * [Altetrnatives to Switch Cases in Python](#section6a)\n",
    "    * [Example of using Dictionary to make decisions](#section6b)\n",
    "    * [Conditional Expression](#section6c)\n",
    "* [7. Loops](#section7)\n",
    "    * [While Loop](#section7a)\n",
    "    * [Iterating with For](#section7b)\n",
    "        * [readlines(), read() and readlin()](#section7b)\n",
    "    * [Enumerating Iterators](#section7c)\n",
    "    * [Break, Continue and Else](#section7d)\n",
    "* [8. Operators](#section8)\n",
    "    * [Operating on parts of a container with the slice operator](#section8a)\n",
    "* [9. Regular Expressions](#section9)\n",
    "    * [Searching](#section9a)\n",
    "    * [Replacing](#section9b)\n",
    "    * [re.compile](#section9c)\n",
    "* [10. Exceptions](#section10)\n",
    "    * [Raising Exceptions](#section10a)\n",
    "* [11. Functions](#section11)\n",
    "    * [Defining functions: Default values & None](#section11a)\n",
    "    * [Using lists of arguments](#section11b)\n",
    "    * [Using named function arguments](#section11c)\n",
    "    * [Creating a sequence with a Generator Function](#section11d)\n",
    "* [12. Classes](#section12)\n",
    "    * [Using Methods](#section12a)\n",
    "    * [Using object Data](#section12b)\n",
    "    * [Inheritance](#section12c)\n",
    "    * [Ploymorphism](#section12d)\n",
    "    * [Using generators](#section12e)\n",
    "    * [Using decorators](#section12f)\n",
    "* [13. String Methods](#section13)\n",
    "    * [Common String Methods](#section13a)\n",
    "    * [Formatting Strings with str.format](#section13b)\n",
    "    * [Splitting and Joining Strings](#section13c)\n",
    "* [14. Containers](#section14)\n",
    "    * [Operating on sequences with built-in methods](#section14a)\n",
    "    * [Organizing data in dictionraies](#section14b)\n",
    "    * [Operating on character data with bytes and byte arrays](#section14c)\n",
    "* [15. File I/O](#section15)\n",
    "    * [Reading and writing text files](#section15a)\n",
    "    * [Reading and writing binary files](#section15b)\n",
    "* [16. Databases](#section16)\n",
    "    * [Creating a database with SQLite3](#section16a)\n",
    "    * [Creating, retrieving, updating, and deleting records](#section16b)\n",
    "    * [Creating a database object](#section16c)\n",
    "* [17. Modules](#section17)\n",
    "* [18. Debugging](#section18)\n",
    "* [19. Building a Database Application](#section19)"
   ]
  },
  {
   "cell_type": "markdown",
   "metadata": {},
   "source": [
    "<a id='section4'></a>\n",
    "# 4. General Syntax\n",
    "\n",
    " `__main__` is the name of the scope in which top-level code executes. A module’s `__name__` is set equal to `__main__` when read from standard input, a script, or from an interactive prompt.\n",
    "\n",
    "A module can discover whether or not it is running in the main scope by checking its own `__name__`, which allows a common idiom for conditionally executing code in a module when it is run as a script or with python -m but not when it is imported:\n",
    "\n",
    "```python\n",
    "if __name__ == \"__main__\":\n",
    "    # execute only if run as a script\n",
    "    main()\n",
    "```\n",
    "\n",
    "This is how we can call the `main()` function when script is executed and a chain of function execution occurs:\n",
    "\n",
    "```python\n",
    "\n",
    "def main():\n",
    "    #call function add\n",
    "    add()\n",
    "\n",
    "def add():\n",
    "    #call function printOut\n",
    "    printOut()\n",
    "\n",
    "def printOut():\n",
    "    print(\"Hello World\")\n",
    "\n",
    "if __name__ == \"__main__\": main()\n",
    "```"
   ]
  },
  {
   "cell_type": "code",
   "execution_count": 3,
   "metadata": {},
   "outputs": [
    {
     "name": "stdout",
     "output_type": "stream",
     "text": [
      "Hello World\n"
     ]
    }
   ],
   "source": [
    "def main():\n",
    "    #call function add\n",
    "    add()\n",
    "\n",
    "def add():\n",
    "    #call function printOut\n",
    "    printOut()\n",
    "\n",
    "def printOut():\n",
    "    print(\"Hello World\")\n",
    "\n",
    "if __name__ == \"__main__\": main()"
   ]
  },
  {
   "cell_type": "markdown",
   "metadata": {},
   "source": [
    "If we didn't have a main() function defined we wont be able to run functions that are defined __afterwards__. See example:\n",
    "\n",
    "We are calling `egg()` function from within `main()` though it is defined afterwards."
   ]
  },
  {
   "cell_type": "code",
   "execution_count": 5,
   "metadata": {},
   "outputs": [
    {
     "name": "stdout",
     "output_type": "stream",
     "text": [
      "This is the main function\n",
      "egg\n"
     ]
    }
   ],
   "source": [
    "def main():\n",
    "    print(\"This is the main function\")\n",
    "    egg()\n",
    "\n",
    "def egg():\n",
    "    print('egg')\n",
    "\n",
    "if __name__ == \"__main__\": main()"
   ]
  },
  {
   "cell_type": "markdown",
   "metadata": {},
   "source": [
    "__Note:__\n",
    "* If we didn't have a `main()` function we would get an error as shown below because we can't call `egg()` before it's defined\n",
    "* Using `main()` function allows us to __<u>control the order of the functions</u>__ we can to call/run on execution "
   ]
  },
  {
   "cell_type": "code",
   "execution_count": 6,
   "metadata": {},
   "outputs": [
    {
     "name": "stdout",
     "output_type": "stream",
     "text": [
      "ERROR: easterEgg is not defined\n"
     ]
    }
   ],
   "source": [
    "# del easterEgg\n",
    "try:\n",
    "    easterEgg()\n",
    "except:\n",
    "    print('ERROR: easterEgg is not defined')\n",
    "\n",
    "def easterEgg():\n",
    "    print('egg')"
   ]
  },
  {
   "cell_type": "markdown",
   "metadata": {},
   "source": [
    "### Assigning Values"
   ]
  },
  {
   "cell_type": "code",
   "execution_count": 11,
   "metadata": {},
   "outputs": [
    {
     "name": "stdout",
     "output_type": "stream",
     "text": [
      "James Bond is from Kansas City\n"
     ]
    }
   ],
   "source": [
    "# Assign multiple variables\n",
    "\n",
    "firstName, lastName, homeCity = 'James', 'Bond', 'Kansas City'\n",
    "\n",
    "print('{} {} is from {}'.format(firstName, lastName, homeCity))"
   ]
  },
  {
   "cell_type": "code",
   "execution_count": 12,
   "metadata": {},
   "outputs": [
    {
     "name": "stdout",
     "output_type": "stream",
     "text": [
      "He got 98 in Math\n"
     ]
    }
   ],
   "source": [
    "subject, grade = \"Math\", 98\n",
    "\n",
    "print(\"He got {} in {}\".format(grade, subject))"
   ]
  },
  {
   "cell_type": "markdown",
   "metadata": {},
   "source": [
    "__Making copies of variables__"
   ]
  },
  {
   "cell_type": "code",
   "execution_count": 19,
   "metadata": {},
   "outputs": [
    {
     "name": "stdout",
     "output_type": "stream",
     "text": [
      "value one = 1150 and value two changes to = 1200\n",
      "\n",
      "memory address for val_one = 4563873264 \n",
      "memory address for val_two = 4563873392\n",
      "\n",
      "first list = [1, 3, 4, 5] and second list changes to = [1, 3, 4, 5]\n",
      "\n",
      "memory address for val_one = 4563366728 \n",
      "memory address for val_two = 4563366728\n"
     ]
    }
   ],
   "source": [
    "## making copy of varibales \n",
    "val_one = 1200\n",
    "val_two = val_one\n",
    "#if I change val_one it would not impact val_two\n",
    "val_one = 1150\n",
    "\n",
    "print('value one = {} and value two changes to = {}\\n'.format(val_one, val_two))\n",
    "print('memory address for val_one = {} \\nmemory address for val_two = {}\\n'.format(id(val_one), id(val_two)))\n",
    "\n",
    "## making a copy of lists the wrong way (both pointing to the same memory address)\n",
    "list_one = [1,2,3,4,5]\n",
    "list_two = list_one\n",
    "list_one.remove(2)\n",
    "\n",
    "print('first list = {} and second list changes to = {}\\n'.format(list_one, list_two))\n",
    "print('memory address for val_one = {} \\nmemory address for val_two = {}'.format(id(list_one), id(list_two)))"
   ]
  },
  {
   "cell_type": "markdown",
   "metadata": {},
   "source": [
    "### Example using Python for Swapping Values"
   ]
  },
  {
   "cell_type": "code",
   "execution_count": 11,
   "metadata": {},
   "outputs": [
    {
     "name": "stdout",
     "output_type": "stream",
     "text": [
      "B\n",
      "A\n"
     ]
    }
   ],
   "source": [
    "a, b = \"A\", \"B\"\n",
    "a, b = b, a\n",
    "print(a)\n",
    "print(b)"
   ]
  },
  {
   "cell_type": "markdown",
   "metadata": {},
   "source": [
    "## Printing in Python"
   ]
  },
  {
   "cell_type": "code",
   "execution_count": 5,
   "metadata": {},
   "outputs": [
    {
     "name": "stdout",
     "output_type": "stream",
     "text": [
      "1\n",
      "hello world\n",
      "5\n"
     ]
    }
   ],
   "source": [
    "# print strings or numbers simple example\n",
    "print(1)\n",
    "print(\"hello world\")\n",
    "print(1+2+2)"
   ]
  },
  {
   "cell_type": "code",
   "execution_count": 6,
   "metadata": {},
   "outputs": [
    {
     "name": "stdout",
     "output_type": "stream",
     "text": [
      "Hello World\n",
      "1\n",
      "6\n"
     ]
    }
   ],
   "source": [
    "#print variables\n",
    "a = \"Hello World\"\n",
    "b = 1\n",
    "c = 1+2+3\n",
    "\n",
    "print(a)\n",
    "print(b)\n",
    "print(c)"
   ]
  },
  {
   "cell_type": "markdown",
   "metadata": {},
   "source": [
    "### Printing using `.format()`"
   ]
  },
  {
   "cell_type": "code",
   "execution_count": 7,
   "metadata": {},
   "outputs": [
    {
     "name": "stdout",
     "output_type": "stream",
     "text": [
      "My score in math was 100 and in physics was 95\n"
     ]
    }
   ],
   "source": [
    "#Print examples using text and variables via Format\n",
    "score1 = 100\n",
    "score2 = 95\n",
    "\n",
    "print(\"My score in math was {} and in physics was {}\".format(score1, score2))"
   ]
  },
  {
   "cell_type": "markdown",
   "metadata": {},
   "source": [
    "## Printing memory address"
   ]
  },
  {
   "cell_type": "code",
   "execution_count": 9,
   "metadata": {},
   "outputs": [
    {
     "data": {
      "text/plain": [
       "4527044016"
      ]
     },
     "execution_count": 9,
     "metadata": {},
     "output_type": "execute_result"
    }
   ],
   "source": [
    "score3 = 80\n",
    "id(score3)"
   ]
  },
  {
   "cell_type": "code",
   "execution_count": 8,
   "metadata": {},
   "outputs": [
    {
     "name": "stdout",
     "output_type": "stream",
     "text": [
      "varA has a value = 100 and a memory address = 4527044656\n"
     ]
    }
   ],
   "source": [
    "#using print() function\n",
    "varA = 100\n",
    "\n",
    "print(\"varA has a value = {} and a memory address = {}\".format(varA, id(varA)))"
   ]
  },
  {
   "cell_type": "markdown",
   "metadata": {},
   "source": [
    "<a id='section4b'></a>\n",
    "### Conditional Assignment "
   ]
  },
  {
   "cell_type": "code",
   "execution_count": 7,
   "metadata": {},
   "outputs": [
    {
     "name": "stdout",
     "output_type": "stream",
     "text": [
      "less than\n"
     ]
    }
   ],
   "source": [
    "def main():\n",
    "    a, b = 0, 1\n",
    "    s = \"less than\" if a < b else \"not less than\"\n",
    "    print(s)\n",
    "\n",
    "if __name__ == \"__main__\": main()"
   ]
  },
  {
   "cell_type": "code",
   "execution_count": 8,
   "metadata": {},
   "outputs": [
    {
     "name": "stdout",
     "output_type": "stream",
     "text": [
      "I am in main()\n"
     ]
    }
   ],
   "source": [
    "print(\"I am in main()\" if __name__ == \"__main__\" else \"not in main\")"
   ]
  },
  {
   "cell_type": "code",
   "execution_count": 9,
   "metadata": {},
   "outputs": [
    {
     "name": "stdout",
     "output_type": "stream",
     "text": [
      "5\n"
     ]
    }
   ],
   "source": [
    "a, b = 2, 3\n",
    "c = a + b if a > 0 and b > 0 else 0\n",
    "print(c)"
   ]
  },
  {
   "cell_type": "markdown",
   "metadata": {},
   "source": [
    "### how objects are created"
   ]
  },
  {
   "cell_type": "code",
   "execution_count": 1,
   "metadata": {},
   "outputs": [],
   "source": [
    "class Egg:\n",
    "    def __init__(self, style='fried'):  #initializing \n",
    "        self.style = style\n",
    "    \n",
    "    def whatKind(self):\n",
    "        return self.style"
   ]
  },
  {
   "cell_type": "code",
   "execution_count": 2,
   "metadata": {},
   "outputs": [
    {
     "name": "stdout",
     "output_type": "stream",
     "text": [
      "fried\n",
      "scrambled\n"
     ]
    }
   ],
   "source": [
    "def main():\n",
    "    fried = Egg()\n",
    "    scrambled = Egg('scrambled')\n",
    "    print(fried.whatKind())\n",
    "    print(scrambled.whatKind())\n",
    "\n",
    "if __name__ == '__main__': main()"
   ]
  },
  {
   "cell_type": "markdown",
   "metadata": {},
   "source": [
    "<a id='section5'></a>"
   ]
  },
  {
   "cell_type": "markdown",
   "metadata": {},
   "source": [
    "# 5. Varibales, Objects & Values\n",
    "[Top](#top)"
   ]
  },
  {
   "cell_type": "markdown",
   "metadata": {},
   "source": [
    "* Everthing in Python is an object\n",
    "* Every object has an ID, Type and Value\n",
    "    * ID uniquely identifies a particular instance of an object\n",
    "    * Cannot change for the life of the object\n",
    "    * Type identifies the Class of an object which cannot change for the life of the object\n",
    "    \n",
    "\n",
    "    "
   ]
  },
  {
   "cell_type": "code",
   "execution_count": 18,
   "metadata": {},
   "outputs": [
    {
     "data": {
      "text/plain": [
       "49"
      ]
     },
     "execution_count": 18,
     "metadata": {},
     "output_type": "execute_result"
    }
   ],
   "source": [
    "#define varibale x\n",
    "x = 49\n",
    "#value of x\n",
    "x"
   ]
  },
  {
   "cell_type": "code",
   "execution_count": 19,
   "metadata": {},
   "outputs": [
    {
     "data": {
      "text/plain": [
       "4549812688"
      ]
     },
     "execution_count": 19,
     "metadata": {},
     "output_type": "execute_result"
    }
   ],
   "source": [
    "#id(x) a unique and constant for this object during its lifetime\n",
    "id(x)"
   ]
  },
  {
   "cell_type": "code",
   "execution_count": 20,
   "metadata": {},
   "outputs": [
    {
     "data": {
      "text/plain": [
       "int"
      ]
     },
     "execution_count": 20,
     "metadata": {},
     "output_type": "execute_result"
    }
   ],
   "source": [
    "type(x)"
   ]
  },
  {
   "cell_type": "markdown",
   "metadata": {},
   "source": [
    "**All varibales in Python are FIRST CLASS objects**"
   ]
  },
  {
   "cell_type": "code",
   "execution_count": 21,
   "metadata": {},
   "outputs": [
    {
     "data": {
      "text/plain": [
       "4549812496"
      ]
     },
     "execution_count": 21,
     "metadata": {},
     "output_type": "execute_result"
    }
   ],
   "source": [
    "x = 43 ## we are not changing the value, rather changing the reference hence the new id()\n",
    "id(x)"
   ]
  },
  {
   "cell_type": "code",
   "execution_count": 22,
   "metadata": {},
   "outputs": [
    {
     "data": {
      "text/plain": [
       "4549812688"
      ]
     },
     "execution_count": 22,
     "metadata": {},
     "output_type": "execute_result"
    }
   ],
   "source": [
    "x = 49 ## if we switch back to the previous value we get the same id()/address\n",
    "id(x)"
   ]
  },
  {
   "cell_type": "markdown",
   "metadata": {},
   "source": [
    "**Most fundamental (primitive) types in Python are immutable :**\n",
    "* numbers, string tupels\n",
    "\n",
    "**Mutable objects include:**\n",
    "* lists, dictionaries, other objects depending upon implementation"
   ]
  },
  {
   "cell_type": "markdown",
   "metadata": {},
   "source": [
    "<a id='section5a'></a>\n",
    "### Using Numbers\n",
    "[Top](#top)"
   ]
  },
  {
   "cell_type": "code",
   "execution_count": 23,
   "metadata": {},
   "outputs": [
    {
     "name": "stdout",
     "output_type": "stream",
     "text": [
      "1. <class 'int'> 42\n",
      "2. <class 'float'> 42.0\n",
      "3. floating point division <class 'float'> 4.666666666666667\n",
      "4. integer division <class 'int'> 4\n",
      "5. rounding <class 'int'> 5\n",
      "6. rounding <class 'float'> 4.67\n",
      "7. Modulo/remainder <class 'int'> 6\n",
      "8. int() func <class 'int'> 42\n",
      "9. float() func <class 'float'> 42.0\n"
     ]
    }
   ],
   "source": [
    "def main():\n",
    "    num = 42\n",
    "    print('1.',type(num), num)\n",
    "    num = 42.0\n",
    "    print('2.',type(num), num)\n",
    "    num = 42 / 9  # Floating point division\n",
    "    print('3. floating point division', type(num), num)\n",
    "    num = 42 // 9 # floor or integer division\n",
    "    print('4. integer division', type(num), num)\n",
    "    num = round(42 / 9)\n",
    "    print('5. rounding',type(num), num)\n",
    "    num = round(42 / 9, 2)\n",
    "    print('6. rounding', type(num), num)\n",
    "    num = 42 % 9\n",
    "    print('7. Modulo/remainder', type(num), num)\n",
    "    num = int(42.9)\n",
    "    print('8. int() func', type(num), num)\n",
    "    num = float(42)\n",
    "    print('9. float() func', type(num), num)\n",
    "\n",
    "if __name__ == \"__main__\": main()"
   ]
  },
  {
   "cell_type": "markdown",
   "metadata": {},
   "source": [
    "<a id='section5b'></a>\n",
    "### Using Strings\n",
    "[Top](#top)"
   ]
  },
  {
   "cell_type": "code",
   "execution_count": 28,
   "metadata": {},
   "outputs": [
    {
     "name": "stdout",
     "output_type": "stream",
     "text": [
      "this is a\n",
      "string!\n",
      "this is a\\nstring!\n"
     ]
    }
   ],
   "source": [
    "#using \\n for new line\n",
    "s = 'this is a\\nstring!'\n",
    "rawString = r'this is a\\nstring!' # this is called a raw string\n",
    "print(s)\n",
    "print(rawString)"
   ]
  },
  {
   "cell_type": "markdown",
   "metadata": {},
   "source": [
    "**Formatting**"
   ]
  },
  {
   "cell_type": "code",
   "execution_count": 92,
   "metadata": {},
   "outputs": [
    {
     "name": "stdout",
     "output_type": "stream",
     "text": [
      "this is a 42 string\n"
     ]
    }
   ],
   "source": [
    "n = 42\n",
    "s = 'this is a {} string'.format(n) #using format method of the string object\n",
    "print(s)"
   ]
  },
  {
   "cell_type": "code",
   "execution_count": 94,
   "metadata": {},
   "outputs": [
    {
     "name": "stdout",
     "output_type": "stream",
     "text": [
      "this is a 42 string\n"
     ]
    }
   ],
   "source": [
    "# old way of doing this but will go away\n",
    "n = 42\n",
    "s = \"this is a %s string\" %n\n",
    "print(s)"
   ]
  },
  {
   "cell_type": "markdown",
   "metadata": {},
   "source": [
    "**Creating a string that spans multiple lines**\n",
    "* Using ''' ''' or \"\"\"  \"\"\""
   ]
  },
  {
   "cell_type": "code",
   "execution_count": 29,
   "metadata": {},
   "outputs": [
    {
     "name": "stdout",
     "output_type": "stream",
     "text": [
      "\n",
      "this is a string\n",
      "line after line\n",
      "of text and more\n",
      "text.\n",
      "\n"
     ]
    }
   ],
   "source": [
    "s = '''\n",
    "this is a string\n",
    "line after line\n",
    "of text and more\n",
    "text.\n",
    "'''\n",
    "\n",
    "print(s)"
   ]
  },
  {
   "cell_type": "code",
   "execution_count": 31,
   "metadata": {},
   "outputs": [
    {
     "name": "stdout",
     "output_type": "stream",
     "text": [
      "this is a string line after line of text and more text.\n",
      "\n"
     ]
    }
   ],
   "source": [
    "##escaping\n",
    "s = '''\\\n",
    "this is a string \\\n",
    "line after line \\\n",
    "of text and more \\\n",
    "text.\n",
    "'''\n",
    "print(s)"
   ]
  },
  {
   "cell_type": "markdown",
   "metadata": {},
   "source": [
    "<a id='section5c'></a>\n",
    "### Aggregating values with lists and tuples"
   ]
  },
  {
   "cell_type": "code",
   "execution_count": 126,
   "metadata": {},
   "outputs": [
    {
     "name": "stdout",
     "output_type": "stream",
     "text": [
      "<class 'tuple'> (1, 2, 3)\n",
      "Sorry, can't append Tuples are immutable\n",
      "<class 'list'> [1, 2, 4, 3, 5]\n",
      "<class 'str'> string\n"
     ]
    }
   ],
   "source": [
    "x = (1, 2, 3)\n",
    "print(type(x), x)\n",
    "try:\n",
    "    x.append(5)\n",
    "except:\n",
    "    print('Sorry, can\\'t append Tuples are immutable')\n",
    "\n",
    "y = [1, 2, 3]\n",
    "y.append(5)\n",
    "y.insert(2,4)\n",
    "print(type(y), y)\n",
    "\n",
    "a = 'this is a string'\n",
    "print(type(a), a[10:])"
   ]
  },
  {
   "cell_type": "markdown",
   "metadata": {},
   "source": [
    "<a id='section5d'></a>\n",
    "### Creating associative list with dictionaries"
   ]
  },
  {
   "cell_type": "code",
   "execution_count": 141,
   "metadata": {},
   "outputs": [
    {
     "name": "stdout",
     "output_type": "stream",
     "text": [
      "{'three': 3, 'one': 1, 'five': 5, 'four': 4, 'two': 2}\n",
      "\n",
      "three 3\n",
      "one 1\n",
      "five 5\n",
      "four 4\n",
      "two 2\n",
      "\n",
      "\n",
      "printing the dictionary sorted\n",
      "\n",
      "five 5\n",
      "four 4\n",
      "one 1\n",
      "three 3\n",
      "two 2\n"
     ]
    }
   ],
   "source": [
    "d = {'one':1, 'two': 2, 'three': 3, 'four': 4, 'five': 5}\n",
    "print(d, end='\\n\\n')\n",
    "\n",
    "for k in d:\n",
    "    print(k,d[k])\n",
    "\n",
    "# to get it sorted\n",
    "print('\\n')\n",
    "print('printing the dictionary sorted\\n')\n",
    "for k in sorted(d.keys()):\n",
    "    print(k,d[k])"
   ]
  },
  {
   "cell_type": "markdown",
   "metadata": {},
   "source": [
    "**Using the dict() constructor to create a dictionary**"
   ]
  },
  {
   "cell_type": "code",
   "execution_count": 146,
   "metadata": {},
   "outputs": [
    {
     "name": "stdout",
     "output_type": "stream",
     "text": [
      "{'three': 3, 'one': 1, 'five': 5, 'four': 4, 'two': 2}\n"
     ]
    }
   ],
   "source": [
    "d = dict(\n",
    "    one = 1,\n",
    "    two = 2,\n",
    "    three = 3,\n",
    "    four = 4,\n",
    "    five = 5\n",
    ")\n",
    "print(d)"
   ]
  },
  {
   "cell_type": "code",
   "execution_count": 147,
   "metadata": {},
   "outputs": [
    {
     "data": {
      "text/plain": [
       "{'five': 5, 'four': 4, 'one': 1, 'seven': 7, 'three': 3, 'two': 2}"
      ]
     },
     "execution_count": 147,
     "metadata": {},
     "output_type": "execute_result"
    }
   ],
   "source": [
    "d['seven'] = 7\n",
    "d"
   ]
  },
  {
   "cell_type": "markdown",
   "metadata": {},
   "source": [
    "<a id='section5e'></a>\n",
    "\n",
    "### Finding the type of identity of a varibale\n",
    "[Top](#top)\n",
    "\n",
    "Remember:\n",
    "**Varibales are references to objects**"
   ]
  },
  {
   "cell_type": "code",
   "execution_count": 148,
   "metadata": {},
   "outputs": [
    {
     "name": "stdout",
     "output_type": "stream",
     "text": [
      "4297149840\n"
     ]
    }
   ],
   "source": [
    "x = 42\n",
    "print(id(x))"
   ]
  },
  {
   "cell_type": "code",
   "execution_count": 149,
   "metadata": {},
   "outputs": [
    {
     "name": "stdout",
     "output_type": "stream",
     "text": [
      "4297149840\n"
     ]
    }
   ],
   "source": [
    "y = 42\n",
    "print(id(y))"
   ]
  },
  {
   "cell_type": "code",
   "execution_count": 150,
   "metadata": {},
   "outputs": [
    {
     "data": {
      "text/plain": [
       "True"
      ]
     },
     "execution_count": 150,
     "metadata": {},
     "output_type": "execute_result"
    }
   ],
   "source": [
    "x == y # test for equality - compares VALUES"
   ]
  },
  {
   "cell_type": "code",
   "execution_count": 152,
   "metadata": {},
   "outputs": [
    {
     "data": {
      "text/plain": [
       "True"
      ]
     },
     "execution_count": 152,
     "metadata": {},
     "output_type": "execute_result"
    }
   ],
   "source": [
    "x is y # test if they are the same object - compares IDs"
   ]
  },
  {
   "cell_type": "code",
   "execution_count": 155,
   "metadata": {},
   "outputs": [
    {
     "data": {
      "text/plain": [
       "{'x': 42}"
      ]
     },
     "execution_count": 155,
     "metadata": {},
     "output_type": "execute_result"
    }
   ],
   "source": [
    "x = dict(x = 42)\n",
    "x"
   ]
  },
  {
   "cell_type": "code",
   "execution_count": 156,
   "metadata": {},
   "outputs": [
    {
     "data": {
      "text/plain": [
       "4369898888"
      ]
     },
     "execution_count": 156,
     "metadata": {},
     "output_type": "execute_result"
    }
   ],
   "source": [
    "id(x)"
   ]
  },
  {
   "cell_type": "code",
   "execution_count": 158,
   "metadata": {},
   "outputs": [
    {
     "data": {
      "text/plain": [
       "4369612424"
      ]
     },
     "execution_count": 158,
     "metadata": {},
     "output_type": "execute_result"
    }
   ],
   "source": [
    "y = dict( x= 42)\n",
    "id(y)"
   ]
  },
  {
   "cell_type": "code",
   "execution_count": 159,
   "metadata": {},
   "outputs": [
    {
     "data": {
      "text/plain": [
       "True"
      ]
     },
     "execution_count": 159,
     "metadata": {},
     "output_type": "execute_result"
    }
   ],
   "source": [
    "x == y"
   ]
  },
  {
   "cell_type": "code",
   "execution_count": 161,
   "metadata": {},
   "outputs": [
    {
     "data": {
      "text/plain": [
       "False"
      ]
     },
     "execution_count": 161,
     "metadata": {},
     "output_type": "execute_result"
    }
   ],
   "source": [
    "x is y # it's because a dictionary is immutable object"
   ]
  },
  {
   "cell_type": "code",
   "execution_count": 165,
   "metadata": {},
   "outputs": [
    {
     "name": "stdout",
     "output_type": "stream",
     "text": [
      "False\n",
      "True\n"
     ]
    }
   ],
   "source": [
    "a = [1, 2, 3]\n",
    "b = [1, 2, 3]\n",
    "print(a is b) # not the same object\n",
    "print(a == b) # same value"
   ]
  },
  {
   "cell_type": "markdown",
   "metadata": {},
   "source": [
    "<a id='section5f'></a>\n",
    "\n",
    "### Specifying logical values with True and False\n",
    "[Top](#top)"
   ]
  },
  {
   "cell_type": "code",
   "execution_count": 166,
   "metadata": {},
   "outputs": [
    {
     "data": {
      "text/plain": [
       "False"
      ]
     },
     "execution_count": 166,
     "metadata": {},
     "output_type": "execute_result"
    }
   ],
   "source": [
    "a, b = 0, 1\n",
    "a == b"
   ]
  },
  {
   "cell_type": "code",
   "execution_count": 167,
   "metadata": {},
   "outputs": [
    {
     "data": {
      "text/plain": [
       "True"
      ]
     },
     "execution_count": 167,
     "metadata": {},
     "output_type": "execute_result"
    }
   ],
   "source": [
    "a < b"
   ]
  },
  {
   "cell_type": "code",
   "execution_count": 168,
   "metadata": {},
   "outputs": [
    {
     "data": {
      "text/plain": [
       "False"
      ]
     },
     "execution_count": 168,
     "metadata": {},
     "output_type": "execute_result"
    }
   ],
   "source": [
    "a is b"
   ]
  },
  {
   "cell_type": "code",
   "execution_count": 170,
   "metadata": {},
   "outputs": [
    {
     "name": "stdout",
     "output_type": "stream",
     "text": [
      "<class 'bool'>\n",
      "4296767152\n"
     ]
    }
   ],
   "source": [
    "a = True\n",
    "print(type(a))\n",
    "print(id(a))"
   ]
  },
  {
   "cell_type": "code",
   "execution_count": 173,
   "metadata": {},
   "outputs": [
    {
     "name": "stdout",
     "output_type": "stream",
     "text": [
      "4296767152\n",
      "4296767152\n",
      "4296767120\n"
     ]
    }
   ],
   "source": [
    "b = True\n",
    "print(id(b))\n",
    "print(id(True))\n",
    "print(id(False))"
   ]
  },
  {
   "cell_type": "markdown",
   "metadata": {},
   "source": [
    "<a id='section6'></a>\n",
    "\n",
    "# Conditionals\n",
    "\n",
    "### IF-ELIF-ELSE    \n",
    "[Top](#top)"
   ]
  },
  {
   "cell_type": "code",
   "execution_count": 32,
   "metadata": {},
   "outputs": [
    {
     "name": "stdout",
     "output_type": "stream",
     "text": [
      "it is something else\n"
     ]
    }
   ],
   "source": [
    "v = 'seven'\n",
    "\n",
    "if v == 'one':\n",
    "    print('it is ONE')\n",
    "elif v == 'two':\n",
    "    print('it is TWO')\n",
    "elif v == 'three':\n",
    "    print('it is THREE')\n",
    "else:\n",
    "    print('it is something else')"
   ]
  },
  {
   "cell_type": "markdown",
   "metadata": {},
   "source": [
    "<a id='section6a'></a>\n",
    "\n",
    "### Other strategies for multiple choices\n",
    "#### Alternatives to Switch or Case options we can use Dictionaries              \n",
    "[Top](#top)"
   ]
  },
  {
   "cell_type": "code",
   "execution_count": 176,
   "metadata": {},
   "outputs": [
    {
     "name": "stdout",
     "output_type": "stream",
     "text": [
      "third\n"
     ]
    }
   ],
   "source": [
    "choices = dict(\n",
    "one = 'first',\n",
    "two = 'second',\n",
    "three = 'third',\n",
    "four = 'fourth',\n",
    "five = 'fifth'\n",
    ")\n",
    "\n",
    "v = 'three'\n",
    "print(choices[v])"
   ]
  },
  {
   "cell_type": "markdown",
   "metadata": {},
   "source": [
    "**issues with this approach if we use something outside the list it will generate an error \n",
    "Which we can catch with `Try` and `Except`**"
   ]
  },
  {
   "cell_type": "code",
   "execution_count": 177,
   "metadata": {},
   "outputs": [
    {
     "name": "stdout",
     "output_type": "stream",
     "text": [
      "Did not find\n"
     ]
    }
   ],
   "source": [
    "v = 'seven'\n",
    "try:\n",
    "    choices[v]\n",
    "except:\n",
    "    print('Did not find')"
   ]
  },
  {
   "cell_type": "markdown",
   "metadata": {},
   "source": [
    "**another strategy using Dictionary .get() method**"
   ]
  },
  {
   "cell_type": "code",
   "execution_count": 179,
   "metadata": {},
   "outputs": [
    {
     "name": "stdout",
     "output_type": "stream",
     "text": [
      "Other\n"
     ]
    }
   ],
   "source": [
    "print(choices.get(v, 'Other')) #get method looks for value, if not found will print 'Other'"
   ]
  },
  {
   "cell_type": "markdown",
   "metadata": {},
   "source": [
    "#### Another option is using dictionaries in this approach: \n",
    "\n",
    "```python\n",
    "{ 'option1' : function1,\n",
    "  'option2' : function2,\n",
    "  'option3' : function3,\n",
    "  'option4' : function4 }[value]()\n",
    "```"
   ]
  },
  {
   "cell_type": "code",
   "execution_count": 36,
   "metadata": {},
   "outputs": [
    {
     "name": "stdout",
     "output_type": "stream",
     "text": [
      "8\n"
     ]
    }
   ],
   "source": [
    "j = 'b'\n",
    "\n",
    "result = {\n",
    "    'a': lambda x: x * 5,\n",
    "    'b': lambda x: x + 7,\n",
    "    'c': lambda x: x - 2 \n",
    "} [j](1)\n",
    "\n",
    "# passing value 1 to function b which gives us 1 + 7 = 8\n",
    "print(result)"
   ]
  },
  {
   "cell_type": "markdown",
   "metadata": {},
   "source": [
    "**One more example**  \n",
    "we use the `.get()` which helps us define a default value"
   ]
  },
  {
   "cell_type": "code",
   "execution_count": 37,
   "metadata": {},
   "outputs": [],
   "source": [
    "def test(x):\n",
    "    return {\n",
    "        'a': 1,\n",
    "        'b': 2,\n",
    "        'c': 3\n",
    "    }.get(x, 'nothing')"
   ]
  },
  {
   "cell_type": "code",
   "execution_count": 40,
   "metadata": {},
   "outputs": [
    {
     "data": {
      "text/plain": [
       "2"
      ]
     },
     "execution_count": 40,
     "metadata": {},
     "output_type": "execute_result"
    }
   ],
   "source": [
    "i = 'b'\n",
    "test(i)"
   ]
  },
  {
   "cell_type": "code",
   "execution_count": 45,
   "metadata": {},
   "outputs": [
    {
     "data": {
      "text/plain": [
       "3"
      ]
     },
     "execution_count": 45,
     "metadata": {},
     "output_type": "execute_result"
    }
   ],
   "source": [
    "test('c')"
   ]
  },
  {
   "cell_type": "code",
   "execution_count": 43,
   "metadata": {},
   "outputs": [
    {
     "data": {
      "text/plain": [
       "'nothing'"
      ]
     },
     "execution_count": 43,
     "metadata": {},
     "output_type": "execute_result"
    }
   ],
   "source": [
    "test(9)"
   ]
  },
  {
   "cell_type": "code",
   "execution_count": 46,
   "metadata": {},
   "outputs": [
    {
     "name": "stdout",
     "output_type": "stream",
     "text": [
      "2\n"
     ]
    }
   ],
   "source": [
    "choices = dict(\n",
    "one = lambda x: x - 1,\n",
    "two = lambda x: x- 2,\n",
    "three = lambda x: x- 3,\n",
    "four = lambda x: x- 4,\n",
    "five = lambda x: x- 5\n",
    ")\n",
    "\n",
    "v = 'four'\n",
    "print(choices.get(v, 'Nothing')(6))"
   ]
  },
  {
   "cell_type": "markdown",
   "metadata": {},
   "source": [
    "<a id='section6b'></a>\n",
    "#### Example of using Dictionary to make decisions\n",
    "[Top](#top)"
   ]
  },
  {
   "cell_type": "code",
   "execution_count": 240,
   "metadata": {},
   "outputs": [
    {
     "name": "stdout",
     "output_type": "stream",
     "text": [
      "3\n",
      "9\n"
     ]
    }
   ],
   "source": [
    "def display(x):\n",
    "    return x**2\n",
    "\n",
    "def root(x):\n",
    "    return x**0.5\n",
    "\n",
    "even = {\n",
    "1: lambda x: display(x),\n",
    "2: lambda x: display(x),\n",
    "3: lambda x: display(x),\n",
    "4: lambda x: root(x),\n",
    "9: lambda x: root(x)\n",
    "}\n",
    "\n",
    "num = int(input())\n",
    "\n",
    "try:\n",
    "    print(even.get(num, 'Doesn\\'t Exist')(num))\n",
    "except:\n",
    "    print(num * 1.5)"
   ]
  },
  {
   "cell_type": "markdown",
   "metadata": {},
   "source": [
    "<a id='section6c'></a>\n",
    "### Conditional Expression\n"
   ]
  },
  {
   "cell_type": "code",
   "execution_count": 243,
   "metadata": {},
   "outputs": [
    {
     "name": "stdout",
     "output_type": "stream",
     "text": [
      "a is less than b\n"
     ]
    }
   ],
   "source": [
    "a , b = 0, 1\n",
    "v = \"a greater than b\" if a > b else \"a is less than b\"\n",
    "print(v)"
   ]
  },
  {
   "cell_type": "markdown",
   "metadata": {},
   "source": [
    "<a id='section7'></a>\n",
    "# 7. Loops\n",
    "[Top](#top)"
   ]
  },
  {
   "cell_type": "markdown",
   "metadata": {},
   "source": [
    "<a id='section7a'></a>\n",
    "### While Loop"
   ]
  },
  {
   "cell_type": "code",
   "execution_count": 249,
   "metadata": {},
   "outputs": [
    {
     "name": "stdout",
     "output_type": "stream",
     "text": [
      "1 1 2 3 5 8 13 21 34 55 89 144 "
     ]
    }
   ],
   "source": [
    "def main():\n",
    "    # simple fibonacci series\n",
    "    # the sum of two elements defines the next set\n",
    "    a, b = 0, 1\n",
    "    while b < 150:\n",
    "        print(b, end=' ')\n",
    "        a, b = b, a + b\n",
    "\n",
    "if __name__ == \"__main__\": main()"
   ]
  },
  {
   "cell_type": "markdown",
   "metadata": {},
   "source": [
    "<a id='section7b'></a>\n",
    "### Iterating with` for`\n",
    "Note: `readlines()` and `read().split('/n')` are equivalent\n",
    "### Difference between `read()`, `readlines()` and `readline()`"
   ]
  },
  {
   "cell_type": "markdown",
   "metadata": {},
   "source": [
    "#### `readlines( )`  \n",
    "The method `readlines()` reads until EOF using `readline()` and returns a list containing the lines"
   ]
  },
  {
   "cell_type": "code",
   "execution_count": 66,
   "metadata": {},
   "outputs": [
    {
     "name": "stdout",
     "output_type": "stream",
     "text": [
      "['This is the first line of text\\n', 'This is the second line of text\\n', 'This is the third line of text\\n', 'This is the fourth line of text\\n', 'This is the fifth line of text\\n', 'This is the last line of text']\n",
      "\n",
      "\n",
      "This is the first line of text\n",
      "\n",
      "This is the last line of text\n"
     ]
    }
   ],
   "source": [
    "# Readlines() a list of strings for each line. \n",
    "fh = open('lines.txt')\n",
    "content = fh.readlines()\n",
    "fh.close()\n",
    "\n",
    "print(content) #print all\n",
    "print('\\n')\n",
    "print(content[0]) #show me first item of the list\n",
    "print(content[-1]) #show me last item of the list"
   ]
  },
  {
   "cell_type": "code",
   "execution_count": 67,
   "metadata": {},
   "outputs": [
    {
     "name": "stdout",
     "output_type": "stream",
     "text": [
      "This is the first line of text\n",
      "\n",
      "This is the second line of text\n",
      "\n",
      "This is the third line of text\n",
      "\n",
      "This is the fourth line of text\n",
      "\n",
      "This is the fifth line of text\n",
      "\n",
      "This is the last line of text\n"
     ]
    }
   ],
   "source": [
    "#looping example\n",
    "for i in content:\n",
    "    print(i)"
   ]
  },
  {
   "cell_type": "markdown",
   "metadata": {},
   "source": [
    "#### `readline( )`"
   ]
  },
  {
   "cell_type": "code",
   "execution_count": 70,
   "metadata": {},
   "outputs": [
    {
     "name": "stdout",
     "output_type": "stream",
     "text": [
      "This is the first line of text\n",
      "\n",
      "T\n",
      "\n",
      "\n"
     ]
    }
   ],
   "source": [
    "# Readline() - reads the first line only. So, looping will go through the characters from the first line\n",
    "fh = open('lines.txt')\n",
    "content = fh.readline()\n",
    "fh.close()\n",
    "\n",
    "print(content) #prints all content captured which is the first line\n",
    "print(content[0]) #prints the firt character\n",
    "print(content[-1]) #prints the last character in this case it is space so will look blank"
   ]
  },
  {
   "cell_type": "code",
   "execution_count": 71,
   "metadata": {
    "scrolled": true
   },
   "outputs": [
    {
     "name": "stdout",
     "output_type": "stream",
     "text": [
      "T\n",
      "h\n",
      "i\n",
      "s\n",
      " \n",
      "i\n",
      "s\n",
      " \n",
      "t\n",
      "h\n",
      "e\n",
      " \n",
      "f\n",
      "i\n",
      "r\n",
      "s\n",
      "t\n",
      " \n",
      "l\n",
      "i\n",
      "n\n",
      "e\n",
      " \n",
      "o\n",
      "f\n",
      " \n",
      "t\n",
      "e\n",
      "x\n",
      "t\n",
      "\n",
      "\n"
     ]
    }
   ],
   "source": [
    "#looping example\n",
    "for i in content:\n",
    "    print(i)"
   ]
  },
  {
   "cell_type": "markdown",
   "metadata": {},
   "source": [
    "#### `read( )`"
   ]
  },
  {
   "cell_type": "code",
   "execution_count": 1,
   "metadata": {},
   "outputs": [
    {
     "name": "stdout",
     "output_type": "stream",
     "text": [
      "This is the first line of text\n",
      "This is the second line of text\n",
      "This is the third line of text\n",
      "This is the fourth line of text\n",
      "This is the fifth line of text\n",
      "This is the last line of text\n",
      "\n",
      "\n",
      "T\n",
      "t\n"
     ]
    }
   ],
   "source": [
    "# Read() - reads the entire text \n",
    "# So, looping will go through the characters of the entire text\n",
    "fh = open('lines.txt')\n",
    "content =  fh.read()\n",
    "fh.close()\n",
    "\n",
    "print(content) #prints all content captured which is the first line\n",
    "print('\\n')\n",
    "print(content[0]) #prints the firt character\n",
    "print(content[-1]) #prints the last character in this case it is space so will look blank"
   ]
  },
  {
   "cell_type": "code",
   "execution_count": 4,
   "metadata": {},
   "outputs": [
    {
     "name": "stdout",
     "output_type": "stream",
     "text": [
      "This is the first line of text\n",
      "This is the second line of text\n",
      "This is the third line of text\n",
      "This is the fourth line of text\n",
      "This is the fifth line of text\n",
      "This is the last line of text"
     ]
    }
   ],
   "source": [
    "#looping example\n",
    "for i in content:\n",
    "    print(i, end= \"\")"
   ]
  },
  {
   "cell_type": "markdown",
   "metadata": {},
   "source": [
    "## Iterating over `readlines()` example\n",
    "\n",
    "* using `readlines()` and `print(end=\"\")` to avoid double `\\n` since by default `print(end =\"\\n\")`"
   ]
  },
  {
   "cell_type": "code",
   "execution_count": 78,
   "metadata": {},
   "outputs": [
    {
     "name": "stdout",
     "output_type": "stream",
     "text": [
      "This is the first line of text\n",
      "This is the second line of text\n",
      "This is the third line of text\n",
      "This is the fourth line of text\n",
      "This is the fifth line of text\n",
      "This is the last line of text"
     ]
    }
   ],
   "source": [
    "def main():\n",
    "    fh = open('lines.txt')\n",
    "    for line in fh.readlines():\n",
    "        print(line, end=\"\")\n",
    "    fh.close()\n",
    "if __name__ == \"__main__\": main()"
   ]
  },
  {
   "cell_type": "code",
   "execution_count": 79,
   "metadata": {},
   "outputs": [
    {
     "name": "stdout",
     "output_type": "stream",
     "text": [
      "This is the first line of text\n",
      "This is the second line of text\n",
      "This is the third line of text\n",
      "This is the fourth line of text\n",
      "This is the fifth line of text\n",
      "This is the last line of text\n"
     ]
    }
   ],
   "source": [
    "# or can be done using .strip()\n",
    "\n",
    "def main():\n",
    "    fh = open('lines.txt')\n",
    "    for line in fh.readlines():\n",
    "        print(line.strip())\n",
    "    fh.close()\n",
    "if __name__ == \"__main__\": main()\n"
   ]
  },
  {
   "cell_type": "markdown",
   "metadata": {},
   "source": [
    "__`read()` with `print(end=\"\")` sice it reads characater by character. This way it keeps reading until line ends via `'\\n'`__"
   ]
  },
  {
   "cell_type": "code",
   "execution_count": 4,
   "metadata": {},
   "outputs": [
    {
     "name": "stdout",
     "output_type": "stream",
     "text": [
      "This is the first line of text\n",
      "This is the second line of text\n",
      "This is the third line of text\n",
      "This is the fourth line of text\n",
      "This is the fifth line of text\n",
      "This is the last line of text"
     ]
    }
   ],
   "source": [
    "fh = open('lines.txt')\n",
    "for line in fh.read():\n",
    "    print(line, end=\"\")\n",
    "fh.close()"
   ]
  },
  {
   "cell_type": "markdown",
   "metadata": {},
   "source": [
    "__Same as above, but accomplishing similar results with `read()` and `.split('/n)`__"
   ]
  },
  {
   "cell_type": "code",
   "execution_count": 81,
   "metadata": {},
   "outputs": [
    {
     "name": "stdout",
     "output_type": "stream",
     "text": [
      "This is the first line of text\n",
      "This is the second line of text\n",
      "This is the third line of text\n",
      "This is the fourth line of text\n",
      "This is the fifth line of text\n",
      "This is the last line of text\n"
     ]
    }
   ],
   "source": [
    "fh = open('lines.txt')\n",
    "for line in fh.read().split('/n'):\n",
    "    print(line)\n",
    "fh.close()"
   ]
  },
  {
   "cell_type": "markdown",
   "metadata": {},
   "source": [
    "__using `readline()` and `split(\"/n\")`__ "
   ]
  },
  {
   "cell_type": "code",
   "execution_count": 82,
   "metadata": {},
   "outputs": [
    {
     "name": "stdout",
     "output_type": "stream",
     "text": [
      "This is the first line of text\n",
      "\n"
     ]
    }
   ],
   "source": [
    "def main():\n",
    "    fh = open('lines.txt')\n",
    "    for line in fh.readline().split('/n'):\n",
    "        print(line)\n",
    "    fh.close()\n",
    "if __name__ == \"__main__\": main()"
   ]
  },
  {
   "cell_type": "markdown",
   "metadata": {},
   "source": [
    "__using `readline()` with `print(end=\"\")`__"
   ]
  },
  {
   "cell_type": "code",
   "execution_count": 313,
   "metadata": {},
   "outputs": [
    {
     "name": "stdout",
     "output_type": "stream",
     "text": [
      "01 This is a line of text\n"
     ]
    }
   ],
   "source": [
    "def main():\n",
    "    fh = open('./07 Loops/lines.txt')\n",
    "    for line in fh.readline():\n",
    "        print(line, end=\"\")\n",
    "    fh.close()\n",
    "if __name__ == \"__main__\": main()"
   ]
  },
  {
   "cell_type": "markdown",
   "metadata": {},
   "source": [
    "### Enumerating Iterators\n",
    "<a id='section7c'></a>"
   ]
  },
  {
   "cell_type": "code",
   "execution_count": 15,
   "metadata": {},
   "outputs": [
    {
     "name": "stdout",
     "output_type": "stream",
     "text": [
      "0 This is the first line of text\n",
      "1 This is the second line of text\n",
      "2 This is the third line of text\n",
      "3 This is the fourth line of text\n",
      "4 This is the fifth line of text\n",
      "5 This is the last line of text"
     ]
    }
   ],
   "source": [
    "def main():\n",
    "    fh = open('lines.txt')\n",
    "    for index, line in enumerate(fh.readlines()):\n",
    "        print(index, line, end=\"\")\n",
    "    fh.close()\n",
    "if __name__ == \"__main__\": main()"
   ]
  },
  {
   "cell_type": "code",
   "execution_count": 84,
   "metadata": {},
   "outputs": [
    {
     "name": "stdout",
     "output_type": "stream",
     "text": [
      "index 3 is on s\n",
      "index 6 is on s\n",
      "index 10 is on s\n"
     ]
    }
   ],
   "source": [
    "s = 'this is a string'\n",
    "\n",
    "for i, c in enumerate(s):\n",
    "    if c == 's': print('index {} is on s'.format(i))"
   ]
  },
  {
   "cell_type": "markdown",
   "metadata": {},
   "source": [
    "### Controlling loop flow with Break, Continue, and Else\n",
    "<a id='section7d'></a>"
   ]
  },
  {
   "cell_type": "markdown",
   "metadata": {},
   "source": [
    "### Continue - to shortcut a for loop"
   ]
  },
  {
   "cell_type": "code",
   "execution_count": 85,
   "metadata": {},
   "outputs": [
    {
     "name": "stdout",
     "output_type": "stream",
     "text": [
      "thi i a tring"
     ]
    }
   ],
   "source": [
    "# to skip over letter 's'\n",
    "s = 'this is a string'\n",
    "for c in s:\n",
    "    if c == 's': continue\n",
    "    print(c, end='')"
   ]
  },
  {
   "cell_type": "markdown",
   "metadata": {},
   "source": [
    "### Break"
   ]
  },
  {
   "cell_type": "code",
   "execution_count": 327,
   "metadata": {},
   "outputs": [
    {
     "name": "stdout",
     "output_type": "stream",
     "text": [
      "thi"
     ]
    }
   ],
   "source": [
    "# If I want to stop right at the first enconter of letter 's'\n",
    "s = 'this is a string'\n",
    "for c in s:\n",
    "    if c == 's': break\n",
    "    print(c, end='')"
   ]
  },
  {
   "cell_type": "markdown",
   "metadata": {},
   "source": [
    "### Else"
   ]
  },
  {
   "cell_type": "code",
   "execution_count": 330,
   "metadata": {},
   "outputs": [
    {
     "name": "stdout",
     "output_type": "stream",
     "text": [
      "this is a string else\n"
     ]
    }
   ],
   "source": [
    "# else used when iterators get out of stuff to iterate\n",
    "s = 'this is a string'\n",
    "for c in s:\n",
    "    print(c, end='')\n",
    "else:\n",
    "    print(' else')"
   ]
  },
  {
   "cell_type": "code",
   "execution_count": 3,
   "metadata": {},
   "outputs": [
    {
     "name": "stdout",
     "output_type": "stream",
     "text": [
      "this is a string else done\n"
     ]
    }
   ],
   "source": [
    "# else can be used when a condition becomes false\n",
    "s = 'this is a string'\n",
    "i = 0\n",
    "while (i < len(s)):\n",
    "    print(s[i], end='')\n",
    "    i += 1\n",
    "else:\n",
    "    print(' else done')"
   ]
  },
  {
   "cell_type": "markdown",
   "metadata": {},
   "source": [
    "<a id='section8'></a>\n",
    "# 8. Operators\n",
    "[Top](#top)"
   ]
  },
  {
   "cell_type": "code",
   "execution_count": 10,
   "metadata": {},
   "outputs": [
    {
     "data": {
      "text/plain": [
       "2"
      ]
     },
     "execution_count": 10,
     "metadata": {},
     "output_type": "execute_result"
    }
   ],
   "source": [
    "5 // 2"
   ]
  },
  {
   "cell_type": "code",
   "execution_count": 11,
   "metadata": {},
   "outputs": [
    {
     "data": {
      "text/plain": [
       "1"
      ]
     },
     "execution_count": 11,
     "metadata": {},
     "output_type": "execute_result"
    }
   ],
   "source": [
    "5 % 2"
   ]
  },
  {
   "cell_type": "code",
   "execution_count": 12,
   "metadata": {},
   "outputs": [
    {
     "data": {
      "text/plain": [
       "2.5"
      ]
     },
     "execution_count": 12,
     "metadata": {},
     "output_type": "execute_result"
    }
   ],
   "source": [
    "5 / 2"
   ]
  },
  {
   "cell_type": "code",
   "execution_count": 15,
   "metadata": {},
   "outputs": [
    {
     "data": {
      "text/plain": [
       "(1, 2)"
      ]
     },
     "execution_count": 15,
     "metadata": {},
     "output_type": "execute_result"
    }
   ],
   "source": [
    "divmod(5, 3) # gives the result and remainder as a tuple"
   ]
  },
  {
   "cell_type": "code",
   "execution_count": 22,
   "metadata": {},
   "outputs": [
    {
     "name": "stdout",
     "output_type": "stream",
     "text": [
      "3\n"
     ]
    }
   ],
   "source": [
    "num = 2\n",
    "num += 1\n",
    "print(num)"
   ]
  },
  {
   "cell_type": "code",
   "execution_count": 23,
   "metadata": {},
   "outputs": [
    {
     "name": "stdout",
     "output_type": "stream",
     "text": [
      "2\n"
     ]
    }
   ],
   "source": [
    "num -= 1\n",
    "print(num)"
   ]
  },
  {
   "cell_type": "code",
   "execution_count": 24,
   "metadata": {},
   "outputs": [
    {
     "name": "stdout",
     "output_type": "stream",
     "text": [
      "10\n"
     ]
    }
   ],
   "source": [
    "num *=5\n",
    "print(num)"
   ]
  },
  {
   "cell_type": "code",
   "execution_count": 25,
   "metadata": {},
   "outputs": [
    {
     "name": "stdout",
     "output_type": "stream",
     "text": [
      "2\n"
     ]
    }
   ],
   "source": [
    "num //=5\n",
    "print(num)"
   ]
  },
  {
   "cell_type": "code",
   "execution_count": 26,
   "metadata": {},
   "outputs": [
    {
     "name": "stdout",
     "output_type": "stream",
     "text": [
      "2.0\n"
     ]
    }
   ],
   "source": [
    "num *=5\n",
    "num /= 5\n",
    "print(num)"
   ]
  },
  {
   "cell_type": "markdown",
   "metadata": {},
   "source": [
    "### Bitwise values"
   ]
  },
  {
   "cell_type": "code",
   "execution_count": 27,
   "metadata": {},
   "outputs": [
    {
     "data": {
      "text/plain": [
       "5"
      ]
     },
     "execution_count": 27,
     "metadata": {},
     "output_type": "execute_result"
    }
   ],
   "source": [
    "5"
   ]
  },
  {
   "cell_type": "code",
   "execution_count": 28,
   "metadata": {},
   "outputs": [
    {
     "data": {
      "text/plain": [
       "5"
      ]
     },
     "execution_count": 28,
     "metadata": {},
     "output_type": "execute_result"
    }
   ],
   "source": [
    "0b0101"
   ]
  },
  {
   "cell_type": "code",
   "execution_count": 31,
   "metadata": {
    "collapsed": true,
    "jupyter": {
     "outputs_hidden": true
    }
   },
   "outputs": [],
   "source": [
    "# print out Binary Value\n",
    "def b(n):\n",
    "    print('{:08b}'.format(n))"
   ]
  },
  {
   "cell_type": "code",
   "execution_count": 32,
   "metadata": {},
   "outputs": [
    {
     "name": "stdout",
     "output_type": "stream",
     "text": [
      "00000101\n"
     ]
    }
   ],
   "source": [
    "b(5)"
   ]
  },
  {
   "cell_type": "code",
   "execution_count": 33,
   "metadata": {
    "collapsed": true,
    "jupyter": {
     "outputs_hidden": true
    }
   },
   "outputs": [],
   "source": [
    "x , y = 0x55, 0xaa"
   ]
  },
  {
   "cell_type": "code",
   "execution_count": 38,
   "metadata": {},
   "outputs": [
    {
     "name": "stdout",
     "output_type": "stream",
     "text": [
      "01010101\n",
      "10101010\n",
      "11111111\n",
      "00000000\n",
      "11111111\n",
      "01010101\n",
      "10101010\n",
      "10101010000\n",
      "00000101\n",
      "-1010110\n"
     ]
    }
   ],
   "source": [
    "b(x)\n",
    "b(y)\n",
    "b(x | y)\n",
    "b(x & y)\n",
    "b(x ^ y)\n",
    "b(x ^ 0)\n",
    "b(x ^ 0xff)\n",
    "b( x << 4)\n",
    "b( x >> 4)\n",
    "b(~x)"
   ]
  },
  {
   "cell_type": "markdown",
   "metadata": {},
   "source": [
    "### Comparing identities with IS and IS NOT\n",
    "There are times when we need to compare Objects by comparing their IDs and not just their values"
   ]
  },
  {
   "cell_type": "code",
   "execution_count": 48,
   "metadata": {},
   "outputs": [],
   "source": [
    "x, y = 5, 6"
   ]
  },
  {
   "cell_type": "code",
   "execution_count": 49,
   "metadata": {},
   "outputs": [
    {
     "data": {
      "text/plain": [
       "False"
      ]
     },
     "execution_count": 49,
     "metadata": {},
     "output_type": "execute_result"
    }
   ],
   "source": [
    "x is y"
   ]
  },
  {
   "cell_type": "code",
   "execution_count": 50,
   "metadata": {},
   "outputs": [
    {
     "data": {
      "text/plain": [
       "True"
      ]
     },
     "execution_count": 50,
     "metadata": {},
     "output_type": "execute_result"
    }
   ],
   "source": [
    "x is not y"
   ]
  },
  {
   "cell_type": "code",
   "execution_count": 51,
   "metadata": {},
   "outputs": [
    {
     "data": {
      "text/plain": [
       "True"
      ]
     },
     "execution_count": 51,
     "metadata": {},
     "output_type": "execute_result"
    }
   ],
   "source": [
    "y = 5\n",
    "x is y"
   ]
  },
  {
   "cell_type": "code",
   "execution_count": 57,
   "metadata": {},
   "outputs": [
    {
     "data": {
      "text/plain": [
       "False"
      ]
     },
     "execution_count": 57,
     "metadata": {},
     "output_type": "execute_result"
    }
   ],
   "source": [
    "x, y = [5], [5]\n",
    "x is y #not the same IDs"
   ]
  },
  {
   "cell_type": "code",
   "execution_count": 55,
   "metadata": {},
   "outputs": [
    {
     "name": "stdout",
     "output_type": "stream",
     "text": [
      "4370870408\n",
      "4370898504\n"
     ]
    }
   ],
   "source": [
    "print(id(y))\n",
    "print(id(x))"
   ]
  },
  {
   "cell_type": "code",
   "execution_count": 56,
   "metadata": {},
   "outputs": [
    {
     "data": {
      "text/plain": [
       "True"
      ]
     },
     "execution_count": 56,
     "metadata": {},
     "output_type": "execute_result"
    }
   ],
   "source": [
    "x == y #same values"
   ]
  },
  {
   "cell_type": "code",
   "execution_count": 58,
   "metadata": {},
   "outputs": [
    {
     "data": {
      "text/plain": [
       "True"
      ]
     },
     "execution_count": 58,
     "metadata": {},
     "output_type": "execute_result"
    }
   ],
   "source": [
    "a = [1, 2, 3]\n",
    "b = a #this points to the same object\n",
    "a is b"
   ]
  },
  {
   "cell_type": "code",
   "execution_count": 59,
   "metadata": {},
   "outputs": [
    {
     "data": {
      "text/plain": [
       "False"
      ]
     },
     "execution_count": 59,
     "metadata": {},
     "output_type": "execute_result"
    }
   ],
   "source": [
    "#making a new copy\n",
    "b = a[:]\n",
    "a is b"
   ]
  },
  {
   "cell_type": "markdown",
   "metadata": {},
   "source": [
    "<a id='section8a'></a>\n",
    "### Operating on parts of container with the slice operator"
   ]
  },
  {
   "cell_type": "code",
   "execution_count": 77,
   "metadata": {},
   "outputs": [],
   "source": [
    "list = []\n",
    "list = [0,1, 2, 3, 4, 5, 6, 7, 8, 9, 10]"
   ]
  },
  {
   "cell_type": "code",
   "execution_count": 78,
   "metadata": {},
   "outputs": [
    {
     "data": {
      "text/plain": [
       "[0, 1, 2, 3, 4]"
      ]
     },
     "execution_count": 78,
     "metadata": {},
     "output_type": "execute_result"
    }
   ],
   "source": [
    "s = list[0:5]\n",
    "s"
   ]
  },
  {
   "cell_type": "code",
   "execution_count": 79,
   "metadata": {},
   "outputs": [
    {
     "name": "stdout",
     "output_type": "stream",
     "text": [
      "0, 1, 2, 3, 4, 5, 6, 7, 8, 9, "
     ]
    }
   ],
   "source": [
    "for i in range(0,10): print(i, end=', ')"
   ]
  },
  {
   "cell_type": "code",
   "execution_count": 91,
   "metadata": {},
   "outputs": [
    {
     "name": "stdout",
     "output_type": "stream",
     "text": [
      "[0, 1, 2, 3, 4, 5, 6, 7, 8, 9, 10, 11, 12, 13, 14, 15, 16, 17, 18, 19, 20, 21, 22, 23, 24, 25, 26, 27, 28, 29, 30, 31, 32, 33, 34, 35, 36, 37, 38, 39, 40, 41, 42, 43, 44, 45, 46, 47, 48, 49, 50, 51, 52, 53, 54, 55, 56, 57, 58, 59, 60, 61, 62, 63, 64, 65, 66, 67, 68, 69, 70, 71, 72, 73, 74, 75, 76, 77, 78, 79, 80, 81, 82, 83, 84, 85, 86, 87, 88, 89, 90, 91, 92, 93, 94, 95, 96, 97, 98, 99]\n"
     ]
    }
   ],
   "source": [
    "list[:] = range(100)\n",
    "print(list)"
   ]
  },
  {
   "cell_type": "code",
   "execution_count": 92,
   "metadata": {},
   "outputs": [
    {
     "data": {
      "text/plain": [
       "27"
      ]
     },
     "execution_count": 92,
     "metadata": {},
     "output_type": "execute_result"
    }
   ],
   "source": [
    "list[27] #slice of one element"
   ]
  },
  {
   "cell_type": "code",
   "execution_count": 93,
   "metadata": {},
   "outputs": [
    {
     "data": {
      "text/plain": [
       "[27, 28, 29, 30, 31, 32, 33, 34, 35, 36, 37, 38, 39, 40, 41]"
      ]
     },
     "execution_count": 93,
     "metadata": {},
     "output_type": "execute_result"
    }
   ],
   "source": [
    "list[27:42] #slice with start and end"
   ]
  },
  {
   "cell_type": "code",
   "execution_count": 94,
   "metadata": {},
   "outputs": [
    {
     "data": {
      "text/plain": [
       "[27, 30, 33, 36, 39]"
      ]
     },
     "execution_count": 94,
     "metadata": {},
     "output_type": "execute_result"
    }
   ],
   "source": [
    "list[27:42:3] #slice with start and end for every third element"
   ]
  },
  {
   "cell_type": "code",
   "execution_count": 99,
   "metadata": {},
   "outputs": [
    {
     "name": "stdout",
     "output_type": "stream",
     "text": [
      "27\n",
      "30\n",
      "33\n",
      "36\n",
      "39\n",
      "42\n"
     ]
    }
   ],
   "source": [
    "for i in list[27:43:3]: print(i)"
   ]
  },
  {
   "cell_type": "code",
   "execution_count": 116,
   "metadata": {},
   "outputs": [
    {
     "name": "stdout",
     "output_type": "stream",
     "text": [
      "[0, 1, 2, 3, 4, 5, 6, 7, 8, 9, 10, 11, 12, 13, 14, 15, 16, 17, 18, 19, 20, 21, 22, 23, 24, 25, 26, 99, 28, 29, 99, 31, 32, 99, 34, 35, 99, 37, 38, 99, 40, 41, 99, 43, 44, 45, 46, 47, 48, 49, 50, 51, 52, 53, 54, 55, 56, 57, 58, 59, 60, 61, 62, 63, 64, 65, 66, 67, 68, 69, 70, 71, 72, 73, 74, 75, 76, 77, 78, 79, 80, 81, 82, 83, 84, 85, 86, 87, 88, 89, 90, 91, 92, 93, 94, 95, 96, 97, 98, 99]\n"
     ]
    }
   ],
   "source": [
    "list[27:43:3] = [99,99,99,99,99,99]\n",
    "print(list)"
   ]
  },
  {
   "cell_type": "markdown",
   "metadata": {},
   "source": [
    "<a id='section9'></a>\n",
    "# 9. Regular Expressions\n",
    "[Top](#top)"
   ]
  },
  {
   "cell_type": "markdown",
   "metadata": {},
   "source": [
    "### Searching with Regular Expressions\n",
    "<a id='section9a'></a>"
   ]
  },
  {
   "cell_type": "code",
   "execution_count": 92,
   "metadata": {},
   "outputs": [
    {
     "name": "stdout",
     "output_type": "stream",
     "text": [
      "10 From my books surcease of sorrow--sorrow for the lost Lenore--\n",
      "11 For the rare and radiant maiden whom the angels name Lenore--\n",
      "31 And the only word there spoken was the whispered word, “Lenore!”\n",
      "32 This I whispered, and an echo murmured back the word, “Lenore!”--\n",
      "54 Quoth the raven “Nevermore.”\n",
      "61 With such name as “Nevermore.”\n",
      "68 Then the bird said “Nevermore.”\n",
      "82 Meant in croaking “Nevermore.”\n",
      "95 Respite--respite and nepenthe from thy memories of Lenore;\n",
      "96 Quaff, oh quaff this kind nepenthe and forget this lost Lenore!”\n",
      "97 Quoth the raven, “Nevermore.”\n",
      "104 Quoth the raven, “Nevermore.”\n",
      "109 It shall clasp a sainted maiden whom the angels name Lenore--\n",
      "110 Clasp a rare and radiant maiden whom the angels name Lenore.”\n",
      "111 Quoth the raven, “Nevermore.”\n",
      "118 Quoth the raven, “Nevermore.”\n"
     ]
    }
   ],
   "source": [
    "import re\n",
    "\n",
    "def main():\n",
    "    fh = open('raven.txt')\n",
    "    for i, line in enumerate(fh.readlines()):\n",
    "        if re.search('(Len|Neverm)ore', line): #matches Lenore or Nevermore\n",
    "            print(i, line, end='')\n",
    "\n",
    "if __name__ == \"__main__\": main()\n",
    "    "
   ]
  },
  {
   "cell_type": "code",
   "execution_count": 93,
   "metadata": {},
   "outputs": [
    {
     "name": "stdout",
     "output_type": "stream",
     "text": [
      "10 Lenore\n",
      "11 Lenore\n",
      "31 Lenore\n",
      "32 Lenore\n",
      "54 Nevermore\n",
      "61 Nevermore\n",
      "68 Nevermore\n",
      "82 Nevermore\n",
      "95 Lenore\n",
      "96 Lenore\n",
      "97 Nevermore\n",
      "104 Nevermore\n",
      "109 Lenore\n",
      "110 Lenore\n",
      "111 Nevermore\n",
      "118 Nevermore\n"
     ]
    }
   ],
   "source": [
    "import re\n",
    "\n",
    "def main():\n",
    "    fh = open('raven.txt')\n",
    "    for i, line in enumerate(fh.readlines()):\n",
    "        match = re.search('(Len|Neverm)ore', line)\n",
    "        if match: #matches Lenore or Nevermore\n",
    "            print(i, match.group())\n",
    "\n",
    "if __name__ == \"__main__\": main()\n",
    "    "
   ]
  },
  {
   "cell_type": "markdown",
   "metadata": {},
   "source": [
    "### Replacing with Regular Expressions\n",
    "<a id='section9b'></a>"
   ]
  },
  {
   "cell_type": "code",
   "execution_count": 94,
   "metadata": {},
   "outputs": [
    {
     "name": "stdout",
     "output_type": "stream",
     "text": [
      "10 From my books surcease of sorrow--sorrow for the lost ###--\n",
      "11 For the rare and radiant maiden whom the angels name ###--\n",
      "31 And the only word there spoken was the whispered word, “###!”\n",
      "32 This I whispered, and an echo murmured back the word, “###!”--\n",
      "54 Quoth the raven “###.”\n",
      "61 With such name as “###.”\n",
      "68 Then the bird said “###.”\n",
      "82 Meant in croaking “###.”\n",
      "95 Respite--respite and nepenthe from thy memories of ###;\n",
      "96 Quaff, oh quaff this kind nepenthe and forget this lost ###!”\n",
      "97 Quoth the raven, “###.”\n",
      "104 Quoth the raven, “###.”\n",
      "109 It shall clasp a sainted maiden whom the angels name ###--\n",
      "110 Clasp a rare and radiant maiden whom the angels name ###.”\n",
      "111 Quoth the raven, “###.”\n",
      "118 Quoth the raven, “###.”\n"
     ]
    }
   ],
   "source": [
    "import re\n",
    "\n",
    "def main():\n",
    "    fh = open('raven.txt')\n",
    "    for i, line in enumerate(fh.readlines()):\n",
    "         match = re.search('(Len|Neverm)ore', line) #matches Lenore or Nevermore\n",
    "         if match:\n",
    "            print(i, line.replace(match.group(), '###'), end='')\n",
    "if __name__ == \"__main__\": main()"
   ]
  },
  {
   "cell_type": "markdown",
   "metadata": {},
   "source": [
    "### Resusing Regular Expressions with re.compile\n",
    "<a id='section9c'></a>"
   ]
  },
  {
   "cell_type": "code",
   "execution_count": 95,
   "metadata": {},
   "outputs": [
    {
     "name": "stdout",
     "output_type": "stream",
     "text": [
      "10 From my books surcease of sorrow--sorrow for the lost Lenore--\n",
      "11 For the rare and radiant maiden whom the angels name Lenore--\n",
      "31 And the only word there spoken was the whispered word, “Lenore!”\n",
      "32 This I whispered, and an echo murmured back the word, “Lenore!”--\n",
      "54 Quoth the raven “Nevermore.”\n",
      "61 With such name as “Nevermore.”\n",
      "68 Then the bird said “Nevermore.”\n",
      "75 Of “Never--nevermore.”\n",
      "82 Meant in croaking “Nevermore.”\n",
      "89 _She_ shall press, ah, nevermore!\n",
      "95 Respite--respite and nepenthe from thy memories of Lenore;\n",
      "96 Quaff, oh quaff this kind nepenthe and forget this lost Lenore!”\n",
      "97 Quoth the raven, “Nevermore.”\n",
      "104 Quoth the raven, “Nevermore.”\n",
      "109 It shall clasp a sainted maiden whom the angels name Lenore--\n",
      "110 Clasp a rare and radiant maiden whom the angels name Lenore.”\n",
      "111 Quoth the raven, “Nevermore.”\n",
      "118 Quoth the raven, “Nevermore.”\n",
      "125 Shall be lifted--nevermore!"
     ]
    }
   ],
   "source": [
    "import re\n",
    "\n",
    "def main():\n",
    "    fh = open('raven.txt')\n",
    "    pattern = re.compile('(Len|Neverm)ore', re.IGNORECASE) # more efficient since we compile the pattern only once\n",
    "    for i, line in enumerate(fh.readlines()):\n",
    "        if re.search(pattern, line): #matches Lenore or Nevermore\n",
    "            print(i, line, end='')\n",
    "\n",
    "if __name__ == \"__main__\": main()"
   ]
  },
  {
   "cell_type": "code",
   "execution_count": 96,
   "metadata": {},
   "outputs": [
    {
     "name": "stdout",
     "output_type": "stream",
     "text": [
      "10 From my books surcease of sorrow--sorrow for the lost ###--\n",
      "11 For the rare and radiant maiden whom the angels name ###--\n",
      "31 And the only word there spoken was the whispered word, “###!”\n",
      "32 This I whispered, and an echo murmured back the word, “###!”--\n",
      "54 Quoth the raven “###.”\n",
      "61 With such name as “###.”\n",
      "68 Then the bird said “###.”\n",
      "75 Of “Never--###.”\n",
      "82 Meant in croaking “###.”\n",
      "89 _She_ shall press, ah, ###!\n",
      "95 Respite--respite and nepenthe from thy memories of ###;\n",
      "96 Quaff, oh quaff this kind nepenthe and forget this lost ###!”\n",
      "97 Quoth the raven, “###.”\n",
      "104 Quoth the raven, “###.”\n",
      "109 It shall clasp a sainted maiden whom the angels name ###--\n",
      "110 Clasp a rare and radiant maiden whom the angels name ###.”\n",
      "111 Quoth the raven, “###.”\n",
      "118 Quoth the raven, “###.”\n",
      "125 Shall be lifted--###!"
     ]
    }
   ],
   "source": [
    "import re\n",
    "\n",
    "def main():\n",
    "    fh = open('raven.txt')\n",
    "    pattern = re.compile('(Len|Neverm)ore', re.IGNORECASE) # more efficient since we compile the pattern only once\n",
    "    for i, line in enumerate(fh.readlines()):\n",
    "        if re.search(pattern, line): #matches Lenore or Nevermore\n",
    "            print(i, pattern.sub('###',line), end='')\n",
    "\n",
    "if __name__ == \"__main__\": main()"
   ]
  },
  {
   "cell_type": "markdown",
   "metadata": {},
   "source": [
    "<a id='section10'></a>\n",
    "# 10. Exceptions\n",
    "[Top](#top)\n"
   ]
  },
  {
   "cell_type": "markdown",
   "metadata": {},
   "source": [
    "### Handling Excpetions"
   ]
  },
  {
   "cell_type": "code",
   "execution_count": 97,
   "metadata": {
    "scrolled": true
   },
   "outputs": [
    {
     "name": "stdout",
     "output_type": "stream",
     "text": [
      "could not open the file. come back tomorrow:  [Errno 2] No such file or directory: 'lins.txt'\n"
     ]
    }
   ],
   "source": [
    "def main():\n",
    "    try:\n",
    "        fh = open('lins.txt')\n",
    "    except IOError as e:\n",
    "        print('could not open the file. come back tomorrow: ', e)\n",
    "    else:\n",
    "        for line in fh: print(line.strip()) # removes trailing lines\n",
    "\n",
    "if __name__ == \"__main__\": main()\n"
   ]
  },
  {
   "cell_type": "markdown",
   "metadata": {},
   "source": [
    "### Raising Exceptions\n",
    "<a id='section10a'></a>"
   ]
  },
  {
   "cell_type": "code",
   "execution_count": 98,
   "metadata": {},
   "outputs": [
    {
     "name": "stdout",
     "output_type": "stream",
     "text": [
      "bad filename:  Filename must end with .txt\n"
     ]
    }
   ],
   "source": [
    "def main():\n",
    "    try:\n",
    "        for line in readfile('lies.doc'): \n",
    "            print(line.strip()) # removes trailing lines\n",
    "    except IOError as e:\n",
    "        print('cannot read file: ', e)\n",
    "    except ValueError as e:\n",
    "        print('bad filename: ', e)\n",
    "        \n",
    "\n",
    "def readfile(filename):\n",
    "    if filename.endswith('.txt'):\n",
    "        fh = open(filename)\n",
    "        return fh.readlines()\n",
    "    else: \n",
    "        raise ValueError('Filename must end with .txt')\n",
    "\n",
    "if __name__ == \"__main__\": main()"
   ]
  },
  {
   "cell_type": "markdown",
   "metadata": {},
   "source": [
    "<a id='section11'></a>\n",
    "# 11. Functions\n",
    "[Top](#top)"
   ]
  },
  {
   "cell_type": "markdown",
   "metadata": {},
   "source": [
    "<a id='section11a'></a>\n",
    "### Defining functions with arguments: Default values & None"
   ]
  },
  {
   "cell_type": "code",
   "execution_count": 99,
   "metadata": {},
   "outputs": [
    {
     "name": "stdout",
     "output_type": "stream",
     "text": [
      "This is a test function\n"
     ]
    }
   ],
   "source": [
    "def main():\n",
    "    testfunc()\n",
    "\n",
    "def testfunc():\n",
    "    print('This is a test function')\n",
    "\n",
    "if __name__ == \"__main__\": main()"
   ]
  },
  {
   "cell_type": "code",
   "execution_count": 101,
   "metadata": {},
   "outputs": [],
   "source": [
    "def main():\n",
    "    testfunc()\n",
    "\n",
    "def testfunc():\n",
    "    pass #to avoid an error, can be used as a placeholder\n",
    "\n",
    "if __name__ == \"__main__\": main()"
   ]
  },
  {
   "cell_type": "markdown",
   "metadata": {},
   "source": [
    "#### Using Paremeters & default values\n",
    "* Parameters can be required or optionals\n",
    "* Function arguments must be initialized\n",
    "* To avoid errors, we can use defaut values"
   ]
  },
  {
   "cell_type": "code",
   "execution_count": 182,
   "metadata": {},
   "outputs": [
    {
     "name": "stdout",
     "output_type": "stream",
     "text": [
      "This is a test function 42 1 75\n"
     ]
    }
   ],
   "source": [
    "def main():\n",
    "    testfunc(42, 1)\n",
    "\n",
    "def testfunc(number = 1, another = 42, onemore= 75):\n",
    "    print('This is a test function',number, another, onemore )\n",
    "\n",
    "if __name__ == \"__main__\": main()"
   ]
  },
  {
   "cell_type": "markdown",
   "metadata": {},
   "source": [
    "#### Making the parameter options using None\n",
    "None is a special value that we can also test for"
   ]
  },
  {
   "cell_type": "code",
   "execution_count": 187,
   "metadata": {},
   "outputs": [
    {
     "name": "stdout",
     "output_type": "stream",
     "text": [
      "This is a test function 42 1 75\n"
     ]
    }
   ],
   "source": [
    "def main():\n",
    "    testfunc(42, 1)\n",
    "def testfunc(number = 1, another = None, onemore= 75):\n",
    "    if another is None:\n",
    "        another = 112\n",
    "    print('This is a test function',number, another, onemore )\n",
    "\n",
    "if __name__ == \"__main__\": main()"
   ]
  },
  {
   "cell_type": "markdown",
   "metadata": {},
   "source": [
    "<a id='section11b'></a>\n",
    "### Using lists of arguments\n",
    "We get a Tuple"
   ]
  },
  {
   "cell_type": "code",
   "execution_count": 197,
   "metadata": {},
   "outputs": [
    {
     "name": "stdout",
     "output_type": "stream",
     "text": [
      "This is a tuple\n",
      "1 2 3 4 "
     ]
    }
   ],
   "source": [
    "def main():\n",
    "    testfunc(1, 2, 3, 4)\n",
    "\n",
    "def testfunc(*args):\n",
    "    print('This is a tuple')\n",
    "    for n in args: print(n, end= ' ')\n",
    "\n",
    "if __name__ == \"__main__\": main()"
   ]
  },
  {
   "cell_type": "code",
   "execution_count": 204,
   "metadata": {},
   "outputs": [
    {
     "name": "stdout",
     "output_type": "stream",
     "text": [
      "Your arguemnts:  1 2 (3, 4)\n"
     ]
    }
   ],
   "source": [
    "def main():\n",
    "    testfunc(1, 2, 3, 4)\n",
    "\n",
    "def testfunc(number, another, *args):\n",
    "    print('Your arguemnts: ', number, another, args)\n",
    "\n",
    "if __name__ == \"__main__\": main()"
   ]
  },
  {
   "cell_type": "markdown",
   "metadata": {},
   "source": [
    "<a id='section11c'></a>\n",
    "### Using named function arguments\n",
    "using (**kwargs) = stands for Keyboard Arguments"
   ]
  },
  {
   "cell_type": "code",
   "execution_count": 10,
   "metadata": {},
   "outputs": [
    {
     "name": "stdout",
     "output_type": "stream",
     "text": [
      "This is a test function 1 2 42\n"
     ]
    }
   ],
   "source": [
    "def main():\n",
    "    testfunc(one = 1, two = 2, four = 42)\n",
    "\n",
    "def testfunc(**kwargs):\n",
    "    print('This is a test function', kwargs['one'], kwargs['two'], kwargs['four'])\n",
    "\n",
    "if __name__ == \"__main__\": main()\n"
   ]
  },
  {
   "cell_type": "markdown",
   "metadata": {},
   "source": [
    "#### Combination of different argument types:"
   ]
  },
  {
   "cell_type": "code",
   "execution_count": 206,
   "metadata": {},
   "outputs": [
    {
     "name": "stdout",
     "output_type": "stream",
     "text": [
      "This is a test function 5 6 7 (8, 9, 10) 1 2 42\n"
     ]
    }
   ],
   "source": [
    "def main():\n",
    "    testfunc(5, 6, 7, 8, 9, 10, one = 1, two = 2, four = 42)\n",
    "\n",
    "def testfunc(this, that ,other, *args, **kwargs):\n",
    "    print('This is a test function', \n",
    "          this, that, other, args,\n",
    "          kwargs['one'], kwargs['two'], kwargs['four'])\n",
    "\n",
    "if __name__ == \"__main__\": main()"
   ]
  },
  {
   "cell_type": "code",
   "execution_count": 210,
   "metadata": {},
   "outputs": [
    {
     "name": "stdout",
     "output_type": "stream",
     "text": [
      "four 42\n",
      "one 1\n",
      "two 2\n",
      "8\n",
      "9\n",
      "10\n"
     ]
    }
   ],
   "source": [
    "def main():\n",
    "    testfunc(5, 6, 7, 8, 9, 10, one = 1, two = 2, four = 42)\n",
    "\n",
    "def testfunc(this, that ,other, *args, **kwargs):\n",
    "    for k in kwargs: print(k, kwargs[k]) #wont maintain order\n",
    "    for n in args: print(n) #tuples do maintain order\n",
    "\n",
    "if __name__ == \"__main__\": main()"
   ]
  },
  {
   "cell_type": "markdown",
   "metadata": {},
   "source": [
    "#### Returning values from functions"
   ]
  },
  {
   "cell_type": "code",
   "execution_count": 215,
   "metadata": {},
   "outputs": [
    {
     "name": "stdout",
     "output_type": "stream",
     "text": [
      "0 1 2 3 4 5 6 7 8 9 10 11 12 13 14 15 16 17 18 19 20 21 22 23 24 "
     ]
    }
   ],
   "source": [
    "def main():\n",
    "    for n in testfunc(): print(n, end= ' ')\n",
    "\n",
    "def testfunc():\n",
    "    return range(25)\n",
    "\n",
    "if __name__ == '__main__': main()"
   ]
  },
  {
   "cell_type": "markdown",
   "metadata": {},
   "source": [
    "<a id='section11d'></a>\n",
    "### Generator Function"
   ]
  },
  {
   "cell_type": "code",
   "execution_count": 238,
   "metadata": {},
   "outputs": [
    {
     "name": "stdout",
     "output_type": "stream",
     "text": [
      "This is the functions.py file.\n",
      "2 5 8 11 14 17 20 23 "
     ]
    }
   ],
   "source": [
    "def main():\n",
    "    print(\"This is the functions.py file.\")\n",
    "    for i in inclusive_range(2,25,3):\n",
    "        print(i, end = ' ')\n",
    "\n",
    "def inclusive_range(*args):\n",
    "    numargs = len(args)\n",
    "    if numargs < 1: raise TypeError('requires at least one argument')\n",
    "    elif numargs == 1: \n",
    "        stop = args[0]\n",
    "        start = 0\n",
    "        step = 1\n",
    "    elif numargs == 2:\n",
    "        (start, stop) = args\n",
    "        step = 1\n",
    "    elif numargs == 3:\n",
    "        (start, stop, step) = args\n",
    "    else: \n",
    "        raise TypeError('inclusive_range expected at most 3 arguments, got {}'.format(numargs))\n",
    "    \n",
    "    i = start\n",
    "    try:\n",
    "        while i <= stop:\n",
    "            yield i # next time it run it will resume\n",
    "            i += step\n",
    "    except TypeError as e:\n",
    "        print(e)\n",
    "    \n",
    "if __name__ == \"__main__\": main()"
   ]
  },
  {
   "cell_type": "markdown",
   "metadata": {},
   "source": [
    "<a id='section12'></a>\n",
    "# 12. Classes\n",
    "[Top](#top)\n",
    "* Classes are how we create our own objects\n",
    "* A class is the blueprint for an object\n",
    "* An object is an instance of a class"
   ]
  },
  {
   "cell_type": "code",
   "execution_count": 14,
   "metadata": {},
   "outputs": [
    {
     "name": "stdout",
     "output_type": "stream",
     "text": [
      "Quaaack!\n",
      "Walks like a duck.\n"
     ]
    }
   ],
   "source": [
    "class Duck:\n",
    "    def quack(self):\n",
    "        print('Quaaack!')\n",
    "\n",
    "    def walk(self):\n",
    "        print('Walks like a duck.')\n",
    "\n",
    "def main():\n",
    "    donald = Duck() #donals is an objet which is an instance of class Duck\n",
    "    donald.quack()\n",
    "    donald.walk()\n",
    "\n",
    "if __name__ == \"__main__\": main()"
   ]
  },
  {
   "cell_type": "markdown",
   "metadata": {},
   "source": [
    "### Using Methods\n",
    "<a id='section12a'></a>\n",
    "* methods are functions\n",
    "* first argument is always (self) which is a refernce to the object\n",
    "* **constructor method \\__init__**\n",
    "    * constructors are great for initializing values"
   ]
  },
  {
   "cell_type": "code",
   "execution_count": 31,
   "metadata": {},
   "outputs": [
    {
     "name": "stdout",
     "output_type": "stream",
     "text": [
      "I am a Constructor\n",
      "Quaaack! 47 12\n",
      "Walks like a duck. 47\n",
      "I am a Constructor\n",
      "Quaaack! 100 10\n",
      "Walks like a duck. 100\n"
     ]
    }
   ],
   "source": [
    "class Duck:\n",
    "    def __init__(self, value):\n",
    "        print('I am a Constructor')\n",
    "        self._v = value #creating a local variable that is an attribute of the object i.e. donald\n",
    "        \n",
    "    def quack(self, value):\n",
    "        print('Quaaack!', self._v, value) #now we can use the local varibale\n",
    "\n",
    "    def walk(self):\n",
    "        print('Walks like a duck.', self._v)\n",
    "\n",
    "def main():\n",
    "    donald = Duck(47) \n",
    "    donald.quack(12) #donald is being passed as self\n",
    "    donald.walk()\n",
    "    frank = Duck(100)\n",
    "    frank.quack(10)\n",
    "    frank.walk()\n",
    "    \n",
    "\n",
    "if __name__ == \"__main__\": main()"
   ]
  },
  {
   "cell_type": "markdown",
   "metadata": {},
   "source": [
    "### Using Object Data\n",
    "<a id='section12b'></a>\n",
    "* It is recommended to access local varibales in a class using accessor methods \n",
    "    * Set and Get methods as an example"
   ]
  },
  {
   "cell_type": "code",
   "execution_count": 35,
   "metadata": {},
   "outputs": [
    {
     "name": "stdout",
     "output_type": "stream",
     "text": [
      "white\n",
      "blue\n"
     ]
    }
   ],
   "source": [
    "class Duck:\n",
    "    def __init__(self, color = 'white'):\n",
    "        self._color = color # using _ is to help us remember that this is a local variable\n",
    "        \n",
    "        \n",
    "    def quack(self):\n",
    "        print('Quaaack!')\n",
    "\n",
    "    def walk(self):\n",
    "        print('Walks like a duck.')\n",
    "        \n",
    "    def set_color(self, color): \n",
    "        self._color = color\n",
    "     \n",
    "    def get_color(self):\n",
    "        return self._color\n",
    "\n",
    "def main():\n",
    "    donald = Duck() #donals is an objet which is an instance of class Duck\n",
    "    print(donald.get_color())\n",
    "    donald.set_color('blue')\n",
    "    print(donald.get_color())\n",
    "\n",
    "if __name__ == \"__main__\": main()"
   ]
  },
  {
   "cell_type": "markdown",
   "metadata": {},
   "source": [
    "**If there are many setters that we need to use and call it can get overwhilming. Another option is to use Dictionary (keyword arguments)**"
   ]
  },
  {
   "cell_type": "code",
   "execution_count": 59,
   "metadata": {},
   "outputs": [
    {
     "name": "stdout",
     "output_type": "stream",
     "text": [
      "blue\n",
      "white\n",
      "2\n"
     ]
    }
   ],
   "source": [
    "class Duck:\n",
    "    def __init__(self, **kwargs):\n",
    "        self._color = kwargs.get('color','white') #having a default value         \n",
    "        self._feet = kwargs.get('feet')\n",
    "        \n",
    "    def quack(self):\n",
    "        print('Quaaack!')\n",
    "\n",
    "    def walk(self):\n",
    "        print('Walks like a duck.')\n",
    "        \n",
    "    def set_color(self, color): \n",
    "        self._color = color\n",
    "     \n",
    "    def get_color(self):\n",
    "        return self._color\n",
    "    \n",
    "    def get_feet(self):\n",
    "        return self._feet\n",
    "\n",
    "def main():\n",
    "    donald = Duck(color='blue')\n",
    "    james = Duck()\n",
    "    print(donald.get_color())\n",
    "    print(james.get_color())\n",
    "    smith = Duck(feet=2)\n",
    "    print(smith.get_feet())\n",
    "    \n",
    "\n",
    "if __name__ == \"__main__\": main()"
   ]
  },
  {
   "cell_type": "markdown",
   "metadata": {},
   "source": [
    "## Dictionary `.get()` built in function and defaults"
   ]
  },
  {
   "cell_type": "code",
   "execution_count": 102,
   "metadata": {},
   "outputs": [
    {
     "name": "stdout",
     "output_type": "stream",
     "text": [
      "blue\n",
      "black\n"
     ]
    }
   ],
   "source": [
    "j = {'color': 'blue', 'feet': 4}\n",
    "print(j.get('color', 'black'))\n",
    "\n",
    "s = {'feet': 4}\n",
    "print(s.get('color', 'black'))"
   ]
  },
  {
   "cell_type": "markdown",
   "metadata": {},
   "source": [
    "**instead of having differernt local varibales we can use a dictionary**"
   ]
  },
  {
   "cell_type": "code",
   "execution_count": 62,
   "metadata": {},
   "outputs": [
    {
     "name": "stdout",
     "output_type": "stream",
     "text": [
      "blue\n",
      "None\n",
      "4\n"
     ]
    }
   ],
   "source": [
    "class Duck:\n",
    "    def __init__(self, **kwargs):\n",
    "        self.varibales = kwargs\n",
    "        \n",
    "    def quack(self):\n",
    "        print('Quaaack!')\n",
    "\n",
    "    def walk(self):\n",
    "        print('Walks like a duck.')\n",
    "        \n",
    "    def set_color(self, color): \n",
    "        self.varibales['color'] = color\n",
    "    \n",
    "    def set_feet(self, feet):\n",
    "        self.varibales['feet'] = feet\n",
    "     \n",
    "    def get_color(self):\n",
    "        return self.varibales.get('color', None)\n",
    "    \n",
    "    def get_feet(self):\n",
    "        return self.varibales.get('feet', 4)\n",
    "\n",
    "def main():\n",
    "    donald = Duck(color='blue')\n",
    "    james = Duck()\n",
    "    print(donald.get_color())\n",
    "    print(james.get_color())\n",
    "    smith = Duck()\n",
    "    print(smith.get_feet())\n",
    "    \n",
    "\n",
    "if __name__ == \"__main__\": main()"
   ]
  },
  {
   "cell_type": "markdown",
   "metadata": {},
   "source": [
    "**Make the setters scale as well we can make another modification**\n",
    "\n",
    "Storing Object data in a Dictionay - the code below is scalable and flexible"
   ]
  },
  {
   "cell_type": "code",
   "execution_count": 85,
   "metadata": {},
   "outputs": [
    {
     "name": "stdout",
     "output_type": "stream",
     "text": [
      "2\n",
      "pink\n"
     ]
    }
   ],
   "source": [
    "class Duck:\n",
    "    def __init__(self, **kwargs):\n",
    "        self.varibales = kwargs\n",
    "        \n",
    "    def quack(self):\n",
    "        print('Quaaack!')\n",
    "\n",
    "    def walk(self):\n",
    "        print('Walks like a duck.')\n",
    "        \n",
    "    def set_variables(self, k, v):\n",
    "        self.varibales[k] = v\n",
    "    \n",
    "    def get_varibales(self, k):\n",
    "        return self.varibales.get(k, None)\n",
    "\n",
    "def main():\n",
    "    donald = Duck(feet = 2)\n",
    "    donald.set_variables('color','pink')\n",
    "    print(donald.get_varibales('feet'))\n",
    "    print(donald.get_varibales('color'))\n",
    "\n",
    "    \n",
    "if __name__ == \"__main__\": main()"
   ]
  },
  {
   "cell_type": "markdown",
   "metadata": {},
   "source": [
    "### Understanding Inheritance\n",
    "<a id='section12c'></a>"
   ]
  },
  {
   "cell_type": "code",
   "execution_count": 103,
   "metadata": {},
   "outputs": [
    {
     "name": "stdout",
     "output_type": "stream",
     "text": [
      "Quaaack!\n",
      "Hey, Im walking here!\n",
      "Walks like a duck.\n",
      "I have nice clothes\n",
      "I have something to say\n"
     ]
    }
   ],
   "source": [
    "class Animal:\n",
    "    def talk(self): print('I have something to say')\n",
    "    def walk(self): print('Hey, I''m walking'' here!')\n",
    "    def clothes(self): print('I have nice clothes')    \n",
    "\n",
    "class Duck(Animal): #now Duck inherits all properties of animal\n",
    "    def quack(self):\n",
    "        print('Quaaack!')\n",
    "\n",
    "    def walk(self):\n",
    "        #if we want to access the paretn method we use super()\n",
    "        super().walk()\n",
    "        print('Walks like a duck.')\n",
    "\n",
    "def main():\n",
    "    donald = Duck()\n",
    "    donald.quack()\n",
    "    donald.walk() #the Duck walk overwrties the parent, to access both we used super()\n",
    "    donald.clothes() #from parent\n",
    "    donald.talk() # from parent\n",
    "\n",
    "if __name__ == \"__main__\": main()"
   ]
  },
  {
   "cell_type": "code",
   "execution_count": 96,
   "metadata": {},
   "outputs": [
    {
     "name": "stdout",
     "output_type": "stream",
     "text": [
      "I have brown and white fur\n",
      "I have something to say\n"
     ]
    }
   ],
   "source": [
    "class Dog(Animal):\n",
    "    def clothes(self): print('I have brown and white fur')\n",
    "\n",
    "fido = Dog()\n",
    "fido.clothes()\n",
    "fido.talk()"
   ]
  },
  {
   "cell_type": "markdown",
   "metadata": {},
   "source": [
    "### Applying polymorphism to classes\n",
    "<a id='section12d'></a>"
   ]
  },
  {
   "cell_type": "code",
   "execution_count": 106,
   "metadata": {},
   "outputs": [
    {
     "name": "stdout",
     "output_type": "stream",
     "text": [
      "Quaaack!\n",
      "Walks like a duck.\n"
     ]
    }
   ],
   "source": [
    "class Duck:\n",
    "    def quack(self):\n",
    "        print('Quaaack!')\n",
    "\n",
    "    def walk(self):\n",
    "        print('Walks like a duck.')\n",
    "    \n",
    "    def bark(self):\n",
    "        print('Duck cannot bark')\n",
    "    \n",
    "    def fur(self):\n",
    "        print('The duck has feathers')\n",
    "\n",
    "\n",
    "donald = Duck()\n",
    "donald.quack()\n",
    "donald.walk()\n"
   ]
  },
  {
   "cell_type": "code",
   "execution_count": 107,
   "metadata": {},
   "outputs": [
    {
     "name": "stdout",
     "output_type": "stream",
     "text": [
      "Woof!\n",
      "the dog has brown and white fur\n"
     ]
    }
   ],
   "source": [
    "class Dog:\n",
    "    def bark(self):\n",
    "        print('Woof!')\n",
    "        \n",
    "    def fur(self): \n",
    "        print('the dog has brown and white fur')\n",
    "    \n",
    "    def walk(self):\n",
    "        print('Walks like a dog')\n",
    "    \n",
    "    def quack(self):\n",
    "        print('The dog cannot quack')\n",
    "        \n",
    "fido = Dog()\n",
    "fido.bark()\n",
    "fido.fur()"
   ]
  },
  {
   "cell_type": "markdown",
   "metadata": {},
   "source": [
    "#### By making both classes have common methods we now can "
   ]
  },
  {
   "cell_type": "code",
   "execution_count": 109,
   "metadata": {},
   "outputs": [
    {
     "name": "stdout",
     "output_type": "stream",
     "text": [
      "Quaaack!\n",
      "Walks like a duck.\n",
      "Duck cannot bark\n",
      "The duck has feathers\n",
      "The dog cannot quack\n",
      "Walks like a dog\n",
      "Woof!\n",
      "the dog has brown and white fur\n",
      "Duck cannot bark\n",
      "The duck has feathers\n",
      "The dog cannot quack\n",
      "Walks like a dog\n"
     ]
    }
   ],
   "source": [
    "for o in (donald, fido):\n",
    "    o.quack()\n",
    "    o.walk()\n",
    "    o.bark()\n",
    "    o.fur()"
   ]
  },
  {
   "cell_type": "markdown",
   "metadata": {},
   "source": [
    "#### Polymorphism"
   ]
  },
  {
   "cell_type": "code",
   "execution_count": 113,
   "metadata": {},
   "outputs": [
    {
     "name": "stdout",
     "output_type": "stream",
     "text": [
      "Duck cannot bark\n",
      "The duck has feathers\n",
      "The dog cannot quack\n",
      "Walks like a dog\n"
     ]
    }
   ],
   "source": [
    "def in_the_forest(dog):\n",
    "    dog.bark()\n",
    "    dog.fur()\n",
    "\n",
    "def in_the_pond(duck):\n",
    "    duck.quack()\n",
    "    duck.walk()\n",
    "    \n",
    "in_the_forest(donald)\n",
    "in_the_pond(fido)"
   ]
  },
  {
   "cell_type": "markdown",
   "metadata": {},
   "source": [
    "### Using generators `__iter__`\n",
    "<a id='section12e'></a>\n",
    "\n",
    "An object that can be used in the context of itterable"
   ]
  },
  {
   "cell_type": "code",
   "execution_count": 114,
   "metadata": {},
   "outputs": [
    {
     "name": "stdout",
     "output_type": "stream",
     "text": [
      "0 1 2 3 4 5 6 7 8 9 10 11 12 13 14 15 16 17 18 19 20 21 22 23 24 "
     ]
    }
   ],
   "source": [
    "def main():\n",
    "    o = range(25)\n",
    "    for i in o: print(i, end = ' ')\n",
    "\n",
    "if __name__ == \"__main__\": main()"
   ]
  },
  {
   "cell_type": "code",
   "execution_count": 130,
   "metadata": {},
   "outputs": [],
   "source": [
    "class inclusive_range:\n",
    "    def __init__(self, *args):\n",
    "        numargs = len(args)\n",
    "        if numargs < 1: raise TypeError('requires at least one argument')\n",
    "        elif numargs == 1:\n",
    "            self.stop = args[0]\n",
    "            self.start = 0\n",
    "            self.step = 1\n",
    "        elif numargs == 2:\n",
    "            (self.start, self.stop) = args\n",
    "            self.step =1 \n",
    "        elif numargs == 3:\n",
    "            (self.start, self.stop, self.step) = args\n",
    "        else: raise TypeError('expected at most 3 arguments, got {}'.format(numargs))\n",
    "\n",
    "    \n",
    "    def __iter__(self): #makes the object an iterable object\n",
    "        i = self.start\n",
    "        while i <= self.stop:\n",
    "            yield i\n",
    "            i += self.step\n",
    "    "
   ]
  },
  {
   "cell_type": "code",
   "execution_count": 133,
   "metadata": {},
   "outputs": [
    {
     "name": "stdout",
     "output_type": "stream",
     "text": [
      "5 10 15 20 25 "
     ]
    }
   ],
   "source": [
    "for i in inclusive_range(5, 25, 5): print(i, end = ' ')"
   ]
  },
  {
   "cell_type": "markdown",
   "metadata": {},
   "source": [
    "### Using decorators : Special functions that return other functions\n",
    "<a id='section12f'></a>"
   ]
  },
  {
   "cell_type": "code",
   "execution_count": 165,
   "metadata": {},
   "outputs": [
    {
     "name": "stdout",
     "output_type": "stream",
     "text": [
      "blue\n"
     ]
    }
   ],
   "source": [
    "class Duck:\n",
    "    def __init__(self, **kwargs):\n",
    "        self.properties = kwargs\n",
    "\n",
    "    def quack(self):\n",
    "        print('Quaaack!')\n",
    "\n",
    "    def walk(self):\n",
    "        print('Walks like a duck.')\n",
    "\n",
    "    def get_properties(self):\n",
    "        return self.properties\n",
    "    \n",
    "    def set_property(self, key, value):\n",
    "        print(key, value)\n",
    "        self.properties[key] = value\n",
    "\n",
    "    def get_property(self, key):\n",
    "        return self.properties.get(key, None)\n",
    "\n",
    "donald = Duck(color = 'blue')\n",
    "print(donald.get_property('color'))\n",
    "\n",
    "\n"
   ]
  },
  {
   "cell_type": "code",
   "execution_count": 166,
   "metadata": {},
   "outputs": [
    {
     "name": "stdout",
     "output_type": "stream",
     "text": [
      "feet 2\n",
      "2\n"
     ]
    }
   ],
   "source": [
    "donald.set_property('feet', 2)\n",
    "print(donald.get_property('feet'))"
   ]
  },
  {
   "cell_type": "markdown",
   "metadata": {},
   "source": [
    "#### Using `@property` to start declaring `.setter` and `.deleter`"
   ]
  },
  {
   "cell_type": "code",
   "execution_count": 169,
   "metadata": {},
   "outputs": [
    {
     "name": "stdout",
     "output_type": "stream",
     "text": [
      "blue\n"
     ]
    }
   ],
   "source": [
    "class Duck:\n",
    "    def __init__(self, **kwargs):\n",
    "        self.properties = kwargs\n",
    "\n",
    "    def quack(self):\n",
    "        print('Quaaack!')\n",
    "\n",
    "    def walk(self):\n",
    "        print('Walks like a duck.')\n",
    "\n",
    "    def get_properties(self):\n",
    "        return self.properties\n",
    "    \n",
    "    def set_property(self, key, value):\n",
    "        print(key, value)\n",
    "        self.properties[key] = value\n",
    "\n",
    "    def get_property(self, key):\n",
    "        return self.properties.get(key, None)\n",
    "\n",
    "    @property #turns this function as an accessor\n",
    "    def color(self):\n",
    "        return self.properties.get('color', None)\n",
    "    \n",
    "    @color.setter #declare a setter\n",
    "    def color(self, c):\n",
    "        self.properties['color'] = c\n",
    "    \n",
    "    @color.deleter\n",
    "    def color(self):\n",
    "        del self.properties['color']\n",
    "\n",
    "donald = Duck()\n",
    "donald.color = 'blue'\n",
    "print(donald.color)"
   ]
  },
  {
   "cell_type": "markdown",
   "metadata": {},
   "source": [
    "<a id='section13'></a>\n",
    "# 13. String Methods\n",
    "[Top](#top)"
   ]
  },
  {
   "cell_type": "markdown",
   "metadata": {},
   "source": [
    "### Strings are objets\n",
    "We can operate on a string like objects without using varibale assignment"
   ]
  },
  {
   "cell_type": "code",
   "execution_count": 2,
   "metadata": {},
   "outputs": [
    {
     "data": {
      "text/plain": [
       "'THIS IS A STRING'"
      ]
     },
     "execution_count": 2,
     "metadata": {},
     "output_type": "execute_result"
    }
   ],
   "source": [
    "'This is a string'.upper()"
   ]
  },
  {
   "cell_type": "code",
   "execution_count": 3,
   "metadata": {},
   "outputs": [
    {
     "data": {
      "text/plain": [
       "'This Is A String'"
      ]
     },
     "execution_count": 3,
     "metadata": {},
     "output_type": "execute_result"
    }
   ],
   "source": [
    "'this is a string'.title()"
   ]
  },
  {
   "cell_type": "code",
   "execution_count": 4,
   "metadata": {},
   "outputs": [
    {
     "data": {
      "text/plain": [
       "'this is a string 42'"
      ]
     },
     "execution_count": 4,
     "metadata": {},
     "output_type": "execute_result"
    }
   ],
   "source": [
    "'this is a string {}'.format(42)"
   ]
  },
  {
   "cell_type": "markdown",
   "metadata": {},
   "source": [
    "<a id='section13a'></a>\n",
    "### Common string methods\n",
    "#### Example:   \n",
    "`upper()`, `lower()`, `strip()`, `rstrip()`, `replace()`, `isalnum()`, `title()`, `isalpha()`, `isprintable()`, `isdigit()`, `capitalize()`, `format()`, `swapcase()`, `find()`"
   ]
  },
  {
   "cell_type": "code",
   "execution_count": 104,
   "metadata": {},
   "outputs": [],
   "source": [
    "s = 'this is a string'"
   ]
  },
  {
   "cell_type": "code",
   "execution_count": 105,
   "metadata": {},
   "outputs": [
    {
     "data": {
      "text/plain": [
       "'This is a string'"
      ]
     },
     "execution_count": 105,
     "metadata": {},
     "output_type": "execute_result"
    }
   ],
   "source": [
    "s.capitalize()"
   ]
  },
  {
   "cell_type": "code",
   "execution_count": 106,
   "metadata": {},
   "outputs": [
    {
     "data": {
      "text/plain": [
       "'THIS IS A STRING'"
      ]
     },
     "execution_count": 106,
     "metadata": {},
     "output_type": "execute_result"
    }
   ],
   "source": [
    "s.upper()"
   ]
  },
  {
   "cell_type": "code",
   "execution_count": 107,
   "metadata": {},
   "outputs": [
    {
     "data": {
      "text/plain": [
       "'tHIS iS a sTRING'"
      ]
     },
     "execution_count": 107,
     "metadata": {},
     "output_type": "execute_result"
    }
   ],
   "source": [
    "'This Is A String'.swapcase()"
   ]
  },
  {
   "cell_type": "code",
   "execution_count": 108,
   "metadata": {},
   "outputs": [
    {
     "data": {
      "text/plain": [
       "2"
      ]
     },
     "execution_count": 108,
     "metadata": {},
     "output_type": "execute_result"
    }
   ],
   "source": [
    "s.find('is') #finds the position "
   ]
  },
  {
   "cell_type": "code",
   "execution_count": 109,
   "metadata": {},
   "outputs": [
    {
     "data": {
      "text/plain": [
       "'that is a string'"
      ]
     },
     "execution_count": 109,
     "metadata": {},
     "output_type": "execute_result"
    }
   ],
   "source": [
    "s.replace('this', 'that')"
   ]
  },
  {
   "cell_type": "markdown",
   "metadata": {},
   "source": [
    "### String is immutable , so there methods return a new string while original is unchanged"
   ]
  },
  {
   "cell_type": "code",
   "execution_count": 13,
   "metadata": {},
   "outputs": [
    {
     "data": {
      "text/plain": [
       "'this is a string'"
      ]
     },
     "execution_count": 13,
     "metadata": {},
     "output_type": "execute_result"
    }
   ],
   "source": [
    "s #still the same"
   ]
  },
  {
   "cell_type": "code",
   "execution_count": 14,
   "metadata": {},
   "outputs": [
    {
     "data": {
      "text/plain": [
       "4368522024"
      ]
     },
     "execution_count": 14,
     "metadata": {},
     "output_type": "execute_result"
    }
   ],
   "source": [
    "id(s)"
   ]
  },
  {
   "cell_type": "code",
   "execution_count": 15,
   "metadata": {},
   "outputs": [
    {
     "data": {
      "text/plain": [
       "4368522888"
      ]
     },
     "execution_count": 15,
     "metadata": {},
     "output_type": "execute_result"
    }
   ],
   "source": [
    "newstring = s.upper()\n",
    "id(newstring) # new id"
   ]
  },
  {
   "cell_type": "code",
   "execution_count": 16,
   "metadata": {},
   "outputs": [
    {
     "data": {
      "text/plain": [
       "4368522024"
      ]
     },
     "execution_count": 16,
     "metadata": {},
     "output_type": "execute_result"
    }
   ],
   "source": [
    "i = s\n",
    "id(i) #same id"
   ]
  },
  {
   "cell_type": "code",
   "execution_count": 17,
   "metadata": {},
   "outputs": [
    {
     "data": {
      "text/plain": [
       "'this is a string'"
      ]
     },
     "execution_count": 17,
     "metadata": {},
     "output_type": "execute_result"
    }
   ],
   "source": [
    "'  this is a string   '.strip() #remove whitespace by default"
   ]
  },
  {
   "cell_type": "code",
   "execution_count": 18,
   "metadata": {},
   "outputs": [
    {
     "data": {
      "text/plain": [
       "'    this is a string'"
      ]
     },
     "execution_count": 18,
     "metadata": {},
     "output_type": "execute_result"
    }
   ],
   "source": [
    "'    this is a string  '.rstrip() #remove white space in end"
   ]
  },
  {
   "cell_type": "code",
   "execution_count": 22,
   "metadata": {},
   "outputs": [
    {
     "data": {
      "text/plain": [
       "'this is a string\\n'"
      ]
     },
     "execution_count": 22,
     "metadata": {},
     "output_type": "execute_result"
    }
   ],
   "source": [
    "s1 = 'this is a string\\n'\n",
    "s1"
   ]
  },
  {
   "cell_type": "code",
   "execution_count": 23,
   "metadata": {},
   "outputs": [
    {
     "data": {
      "text/plain": [
       "'this is a string'"
      ]
     },
     "execution_count": 23,
     "metadata": {},
     "output_type": "execute_result"
    }
   ],
   "source": [
    "s1.strip() #remove the new line \\n"
   ]
  },
  {
   "cell_type": "code",
   "execution_count": 25,
   "metadata": {},
   "outputs": [
    {
     "data": {
      "text/plain": [
       "'this is a string'"
      ]
     },
     "execution_count": 25,
     "metadata": {},
     "output_type": "execute_result"
    }
   ],
   "source": [
    "s1.rstrip('\\n') #same effect"
   ]
  },
  {
   "cell_type": "code",
   "execution_count": 26,
   "metadata": {},
   "outputs": [
    {
     "data": {
      "text/plain": [
       "False"
      ]
     },
     "execution_count": 26,
     "metadata": {},
     "output_type": "execute_result"
    }
   ],
   "source": [
    "s.isalnum() #returns False since the string contains spaces"
   ]
  },
  {
   "cell_type": "code",
   "execution_count": 27,
   "metadata": {},
   "outputs": [
    {
     "data": {
      "text/plain": [
       "True"
      ]
     },
     "execution_count": 27,
     "metadata": {},
     "output_type": "execute_result"
    }
   ],
   "source": [
    "'thisisastring'.isalnum()"
   ]
  },
  {
   "cell_type": "code",
   "execution_count": 31,
   "metadata": {},
   "outputs": [
    {
     "data": {
      "text/plain": [
       "True"
      ]
     },
     "execution_count": 31,
     "metadata": {},
     "output_type": "execute_result"
    }
   ],
   "source": [
    "'thisisstring'.isalpha()"
   ]
  },
  {
   "cell_type": "code",
   "execution_count": 32,
   "metadata": {},
   "outputs": [
    {
     "data": {
      "text/plain": [
       "True"
      ]
     },
     "execution_count": 32,
     "metadata": {},
     "output_type": "execute_result"
    }
   ],
   "source": [
    "'1234'.isdigit()"
   ]
  },
  {
   "cell_type": "code",
   "execution_count": 33,
   "metadata": {},
   "outputs": [
    {
     "data": {
      "text/plain": [
       "False"
      ]
     },
     "execution_count": 33,
     "metadata": {},
     "output_type": "execute_result"
    }
   ],
   "source": [
    "s.isdigit()"
   ]
  },
  {
   "cell_type": "code",
   "execution_count": 34,
   "metadata": {},
   "outputs": [
    {
     "data": {
      "text/plain": [
       "True"
      ]
     },
     "execution_count": 34,
     "metadata": {},
     "output_type": "execute_result"
    }
   ],
   "source": [
    "s.isprintable()"
   ]
  },
  {
   "cell_type": "markdown",
   "metadata": {},
   "source": [
    "<a id='section13b'></a>\n",
    "### Formatting strings with str.format\n",
    "Remember: Strings are immutable in Python so changes mean a new string is created"
   ]
  },
  {
   "cell_type": "code",
   "execution_count": 35,
   "metadata": {},
   "outputs": [
    {
     "name": "stdout",
     "output_type": "stream",
     "text": [
      "5 42\n"
     ]
    }
   ],
   "source": [
    "a, b = 5, 42\n",
    "print(a, b)"
   ]
  },
  {
   "cell_type": "code",
   "execution_count": 36,
   "metadata": {},
   "outputs": [
    {
     "data": {
      "text/plain": [
       "'this is 5, that is 42'"
      ]
     },
     "execution_count": 36,
     "metadata": {},
     "output_type": "execute_result"
    }
   ],
   "source": [
    "'this is {}, that is {}'.format(a, b)"
   ]
  },
  {
   "cell_type": "code",
   "execution_count": 37,
   "metadata": {},
   "outputs": [
    {
     "data": {
      "text/plain": [
       "4368620256"
      ]
     },
     "execution_count": 37,
     "metadata": {},
     "output_type": "execute_result"
    }
   ],
   "source": [
    "s = 'this is {}, that is {}'\n",
    "id(s)"
   ]
  },
  {
   "cell_type": "code",
   "execution_count": 39,
   "metadata": {},
   "outputs": [
    {
     "data": {
      "text/plain": [
       "4369101280"
      ]
     },
     "execution_count": 39,
     "metadata": {},
     "output_type": "execute_result"
    }
   ],
   "source": [
    "new = s.format(a, b)\n",
    "id(new)"
   ]
  },
  {
   "cell_type": "code",
   "execution_count": 41,
   "metadata": {},
   "outputs": [
    {
     "data": {
      "text/plain": [
       "4368620256"
      ]
     },
     "execution_count": 41,
     "metadata": {},
     "output_type": "execute_result"
    }
   ],
   "source": [
    "j = s\n",
    "id(j)"
   ]
  },
  {
   "cell_type": "markdown",
   "metadata": {},
   "source": [
    "#### Changing positional order"
   ]
  },
  {
   "cell_type": "code",
   "execution_count": 42,
   "metadata": {},
   "outputs": [
    {
     "data": {
      "text/plain": [
       "'this is 42, that is 5'"
      ]
     },
     "execution_count": 42,
     "metadata": {},
     "output_type": "execute_result"
    }
   ],
   "source": [
    "'this is {}, that is {}'.format(b, a) #change the varibale orders"
   ]
  },
  {
   "cell_type": "code",
   "execution_count": 43,
   "metadata": {},
   "outputs": [
    {
     "data": {
      "text/plain": [
       "'this is 5, that is 42'"
      ]
     },
     "execution_count": 43,
     "metadata": {},
     "output_type": "execute_result"
    }
   ],
   "source": [
    "'this is {0}, that is {1}'.format(a, b)"
   ]
  },
  {
   "cell_type": "code",
   "execution_count": 44,
   "metadata": {},
   "outputs": [
    {
     "data": {
      "text/plain": [
       "'this is 42, that is 5'"
      ]
     },
     "execution_count": 44,
     "metadata": {},
     "output_type": "execute_result"
    }
   ],
   "source": [
    "'this is {1}, that is {0}'.format(a, b)"
   ]
  },
  {
   "cell_type": "code",
   "execution_count": 46,
   "metadata": {},
   "outputs": [
    {
     "data": {
      "text/plain": [
       "'this is 42, that is 42'"
      ]
     },
     "execution_count": 46,
     "metadata": {},
     "output_type": "execute_result"
    }
   ],
   "source": [
    "'this is {1}, that is {1}'.format(a, b)"
   ]
  },
  {
   "cell_type": "code",
   "execution_count": 47,
   "metadata": {},
   "outputs": [
    {
     "data": {
      "text/plain": [
       "'this is 5, that is 42'"
      ]
     },
     "execution_count": 47,
     "metadata": {},
     "output_type": "execute_result"
    }
   ],
   "source": [
    "'this is {bob}, that is {fred}'.format(bob = a, fred = b)"
   ]
  },
  {
   "cell_type": "code",
   "execution_count": 48,
   "metadata": {},
   "outputs": [
    {
     "data": {
      "text/plain": [
       "'this is 5, that is 42'"
      ]
     },
     "execution_count": 48,
     "metadata": {},
     "output_type": "execute_result"
    }
   ],
   "source": [
    "d = dict(bob = a, fred = b)\n",
    "'this is {bob}, that is {fred}'.format(**d)"
   ]
  },
  {
   "cell_type": "markdown",
   "metadata": {},
   "source": [
    "<a id='section13c'></a>\n",
    "### Splitting and Joining Strings"
   ]
  },
  {
   "cell_type": "code",
   "execution_count": 49,
   "metadata": {
    "collapsed": true,
    "jupyter": {
     "outputs_hidden": true
    }
   },
   "outputs": [],
   "source": [
    "s = 'This is a string of words'"
   ]
  },
  {
   "cell_type": "code",
   "execution_count": 51,
   "metadata": {},
   "outputs": [
    {
     "data": {
      "text/plain": [
       "['This', 'is', 'a', 'string', 'of', 'words']"
      ]
     },
     "execution_count": 51,
     "metadata": {},
     "output_type": "execute_result"
    }
   ],
   "source": [
    "s.split() #splits by whitespace by default"
   ]
  },
  {
   "cell_type": "code",
   "execution_count": 53,
   "metadata": {},
   "outputs": [
    {
     "data": {
      "text/plain": [
       "['Th', 's ', 's a str', 'ng of words']"
      ]
     },
     "execution_count": 53,
     "metadata": {},
     "output_type": "execute_result"
    }
   ],
   "source": [
    "s.split('i') #split on i"
   ]
  },
  {
   "cell_type": "code",
   "execution_count": 57,
   "metadata": {},
   "outputs": [
    {
     "name": "stdout",
     "output_type": "stream",
     "text": [
      "This\n",
      "is\n",
      "a\n",
      "string\n",
      "of\n",
      "words\n"
     ]
    }
   ],
   "source": [
    "words = s.split()\n",
    "for w in words: print(w)"
   ]
  },
  {
   "cell_type": "code",
   "execution_count": 59,
   "metadata": {},
   "outputs": [
    {
     "data": {
      "text/plain": [
       "'This:is:a:string:of:words'"
      ]
     },
     "execution_count": 59,
     "metadata": {},
     "output_type": "execute_result"
    }
   ],
   "source": [
    "new = ':'.join(words)\n",
    "new"
   ]
  },
  {
   "cell_type": "code",
   "execution_count": 60,
   "metadata": {},
   "outputs": [
    {
     "data": {
      "text/plain": [
       "'This,is,a,string,of,words'"
      ]
     },
     "execution_count": 60,
     "metadata": {},
     "output_type": "execute_result"
    }
   ],
   "source": [
    "','.join(words)"
   ]
  },
  {
   "cell_type": "code",
   "execution_count": 61,
   "metadata": {},
   "outputs": [
    {
     "data": {
      "text/plain": [
       "'This is a string of words'"
      ]
     },
     "execution_count": 61,
     "metadata": {},
     "output_type": "execute_result"
    }
   ],
   "source": [
    "' '.join(words)"
   ]
  },
  {
   "cell_type": "markdown",
   "metadata": {},
   "source": [
    "### Finding and using string methods\n",
    "Python documentation"
   ]
  },
  {
   "cell_type": "code",
   "execution_count": 65,
   "metadata": {},
   "outputs": [
    {
     "data": {
      "text/plain": [
       "'                                this is a string                                '"
      ]
     },
     "execution_count": 65,
     "metadata": {},
     "output_type": "execute_result"
    }
   ],
   "source": [
    "s = 'this is a string'\n",
    "new = s.center(80) #80 characters\n",
    "new"
   ]
  },
  {
   "cell_type": "code",
   "execution_count": 66,
   "metadata": {},
   "outputs": [
    {
     "data": {
      "text/plain": [
       "80"
      ]
     },
     "execution_count": 66,
     "metadata": {},
     "output_type": "execute_result"
    }
   ],
   "source": [
    "len(new)"
   ]
  },
  {
   "cell_type": "markdown",
   "metadata": {},
   "source": [
    "<a id='section14'></a>\n",
    "# 14. Containers\n",
    "[Top](#top)"
   ]
  },
  {
   "cell_type": "markdown",
   "metadata": {},
   "source": [
    "**Tuples can be created using the comma operator like this**"
   ]
  },
  {
   "cell_type": "code",
   "execution_count": 70,
   "metadata": {},
   "outputs": [
    {
     "data": {
      "text/plain": [
       "(1, 2, 3, 4, 5)"
      ]
     },
     "execution_count": 70,
     "metadata": {},
     "output_type": "execute_result"
    }
   ],
   "source": [
    "t = 1,2,3,4,5\n",
    "t"
   ]
  },
  {
   "cell_type": "markdown",
   "metadata": {},
   "source": [
    "**How to create a tuple with ONE element?**"
   ]
  },
  {
   "cell_type": "code",
   "execution_count": 71,
   "metadata": {},
   "outputs": [
    {
     "name": "stdout",
     "output_type": "stream",
     "text": [
      "1\n",
      "<class 'int'>\n"
     ]
    }
   ],
   "source": [
    "t = (1) # this is not correct, it will produce an Int\n",
    "print(t)\n",
    "print(type(t))"
   ]
  },
  {
   "cell_type": "code",
   "execution_count": 72,
   "metadata": {},
   "outputs": [
    {
     "name": "stdout",
     "output_type": "stream",
     "text": [
      "(1,)\n",
      "<class 'tuple'>\n"
     ]
    }
   ],
   "source": [
    "t = 1,\n",
    "print(t)\n",
    "print(type(t))"
   ]
  },
  {
   "cell_type": "code",
   "execution_count": 73,
   "metadata": {},
   "outputs": [
    {
     "name": "stdout",
     "output_type": "stream",
     "text": [
      "(0, 1, 2, 3, 4, 5, 6, 7, 8, 9, 10, 11, 12, 13, 14, 15, 16, 17, 18, 19, 20, 21, 22, 23, 24)\n",
      "<class 'tuple'>\n"
     ]
    }
   ],
   "source": [
    "t = tuple(range(25))\n",
    "print(t)\n",
    "print(type(t))"
   ]
  },
  {
   "cell_type": "code",
   "execution_count": 74,
   "metadata": {},
   "outputs": [
    {
     "data": {
      "text/plain": [
       "list"
      ]
     },
     "execution_count": 74,
     "metadata": {},
     "output_type": "execute_result"
    }
   ],
   "source": [
    "x = []\n",
    "type(x)"
   ]
  },
  {
   "cell_type": "code",
   "execution_count": 77,
   "metadata": {},
   "outputs": [
    {
     "name": "stdout",
     "output_type": "stream",
     "text": [
      "[0, 1, 2, 3, 4, 5, 6, 7, 8, 9, 10, 11, 12, 13, 14, 15, 16, 17, 18, 19, 20, 21, 22, 23, 24]\n",
      "<class 'list'>\n"
     ]
    }
   ],
   "source": [
    "x = list(range(25))\n",
    "print(x)\n",
    "print(type(x))"
   ]
  },
  {
   "cell_type": "markdown",
   "metadata": {},
   "source": [
    "<a id='section14a'></a>\n",
    "### Operating on sequences with built-in methods"
   ]
  },
  {
   "cell_type": "code",
   "execution_count": 79,
   "metadata": {},
   "outputs": [
    {
     "name": "stdout",
     "output_type": "stream",
     "text": [
      "(0, 1, 2, 3, 4, 5, 6, 7, 8, 9, 10, 11, 12, 13, 14, 15, 16, 17, 18, 19, 20, 21, 22, 23, 24)\n"
     ]
    }
   ],
   "source": [
    "t = tuple(range(25))\n",
    "print(t)"
   ]
  },
  {
   "cell_type": "code",
   "execution_count": 80,
   "metadata": {},
   "outputs": [
    {
     "data": {
      "text/plain": [
       "True"
      ]
     },
     "execution_count": 80,
     "metadata": {},
     "output_type": "execute_result"
    }
   ],
   "source": [
    "10 in t"
   ]
  },
  {
   "cell_type": "code",
   "execution_count": 82,
   "metadata": {},
   "outputs": [
    {
     "data": {
      "text/plain": [
       "False"
      ]
     },
     "execution_count": 82,
     "metadata": {},
     "output_type": "execute_result"
    }
   ],
   "source": [
    "50 in t"
   ]
  },
  {
   "cell_type": "code",
   "execution_count": 83,
   "metadata": {},
   "outputs": [
    {
     "data": {
      "text/plain": [
       "True"
      ]
     },
     "execution_count": 83,
     "metadata": {},
     "output_type": "execute_result"
    }
   ],
   "source": [
    "50 not in t"
   ]
  },
  {
   "cell_type": "code",
   "execution_count": 84,
   "metadata": {},
   "outputs": [
    {
     "name": "stdout",
     "output_type": "stream",
     "text": [
      "[0, 1, 2, 3, 4, 5, 6, 7, 8, 9, 10, 11, 12, 13, 14, 15, 16, 17, 18, 19]\n"
     ]
    }
   ],
   "source": [
    "x = list(range(20))\n",
    "print(x)"
   ]
  },
  {
   "cell_type": "code",
   "execution_count": 85,
   "metadata": {},
   "outputs": [
    {
     "data": {
      "text/plain": [
       "True"
      ]
     },
     "execution_count": 85,
     "metadata": {},
     "output_type": "execute_result"
    }
   ],
   "source": [
    "10 in x"
   ]
  },
  {
   "cell_type": "code",
   "execution_count": 86,
   "metadata": {},
   "outputs": [
    {
     "data": {
      "text/plain": [
       "False"
      ]
     },
     "execution_count": 86,
     "metadata": {},
     "output_type": "execute_result"
    }
   ],
   "source": [
    "20 in x"
   ]
  },
  {
   "cell_type": "code",
   "execution_count": 88,
   "metadata": {},
   "outputs": [
    {
     "data": {
      "text/plain": [
       "1"
      ]
     },
     "execution_count": 88,
     "metadata": {},
     "output_type": "execute_result"
    }
   ],
   "source": [
    "t.count(4)"
   ]
  },
  {
   "cell_type": "code",
   "execution_count": 89,
   "metadata": {},
   "outputs": [
    {
     "data": {
      "text/plain": [
       "6"
      ]
     },
     "execution_count": 89,
     "metadata": {},
     "output_type": "execute_result"
    }
   ],
   "source": [
    "t.index(6)"
   ]
  },
  {
   "cell_type": "code",
   "execution_count": 90,
   "metadata": {
    "collapsed": true,
    "jupyter": {
     "outputs_hidden": true
    }
   },
   "outputs": [],
   "source": [
    "x.append(100)"
   ]
  },
  {
   "cell_type": "code",
   "execution_count": 91,
   "metadata": {},
   "outputs": [
    {
     "name": "stdout",
     "output_type": "stream",
     "text": [
      "[0, 1, 2, 3, 4, 5, 6, 7, 8, 9, 10, 11, 12, 13, 14, 15, 16, 17, 18, 19, 100, 0, 1, 2, 3, 4, 5, 6, 7, 8, 9, 10, 11, 12, 13, 14, 15, 16, 17, 18, 19]\n"
     ]
    }
   ],
   "source": [
    "x.extend(range(20))\n",
    "print(x)"
   ]
  },
  {
   "cell_type": "code",
   "execution_count": 92,
   "metadata": {},
   "outputs": [
    {
     "name": "stdout",
     "output_type": "stream",
     "text": [
      "[25, 0, 1, 2, 3, 4, 5, 6, 7, 8, 9, 10, 11, 12, 13, 14, 15, 16, 17, 18, 19, 100, 0, 1, 2, 3, 4, 5, 6, 7, 8, 9, 10, 11, 12, 13, 14, 15, 16, 17, 18, 19]\n"
     ]
    }
   ],
   "source": [
    "x.insert(0, 25)\n",
    "print(x)"
   ]
  },
  {
   "cell_type": "code",
   "execution_count": 93,
   "metadata": {
    "collapsed": true,
    "jupyter": {
     "outputs_hidden": true
    }
   },
   "outputs": [],
   "source": [
    "x.remove(12)"
   ]
  },
  {
   "cell_type": "code",
   "execution_count": 95,
   "metadata": {},
   "outputs": [
    {
     "name": "stdout",
     "output_type": "stream",
     "text": [
      "[25, 0, 1, 2, 3, 4, 5, 6, 7, 8, 9, 10, 11, 13, 14, 15, 16, 17, 18, 19, 100, 0, 1, 2, 3, 4, 5, 6, 7, 8, 9, 10, 11, 12, 13, 14, 15, 16, 17, 18, 19]\n"
     ]
    }
   ],
   "source": [
    "print(x)"
   ]
  },
  {
   "cell_type": "code",
   "execution_count": 96,
   "metadata": {},
   "outputs": [
    {
     "name": "stdout",
     "output_type": "stream",
     "text": [
      "[25, 0, 1, 2, 3, 4, 5, 6, 7, 8, 9, 10, 13, 14, 15, 16, 17, 18, 19, 100, 0, 1, 2, 3, 4, 5, 6, 7, 8, 9, 10, 11, 12, 13, 14, 15, 16, 17, 18, 19]\n"
     ]
    }
   ],
   "source": [
    "del x[12]\n",
    "print(x)"
   ]
  },
  {
   "cell_type": "code",
   "execution_count": 97,
   "metadata": {},
   "outputs": [
    {
     "data": {
      "text/plain": [
       "19"
      ]
     },
     "execution_count": 97,
     "metadata": {},
     "output_type": "execute_result"
    }
   ],
   "source": [
    "x.pop()"
   ]
  },
  {
   "cell_type": "code",
   "execution_count": 100,
   "metadata": {},
   "outputs": [
    {
     "name": "stdout",
     "output_type": "stream",
     "text": [
      "[25, 0, 1, 2, 3, 4, 5, 6, 7, 8, 9, 10, 13, 14, 15, 16, 17, 18, 19, 100, 0, 1, 2, 3, 4, 5, 6, 7, 8, 9, 10, 11, 12, 13, 14, 15, 16, 17, 18]\n"
     ]
    }
   ],
   "source": [
    "print(x)"
   ]
  },
  {
   "cell_type": "code",
   "execution_count": 101,
   "metadata": {},
   "outputs": [
    {
     "data": {
      "text/plain": [
       "25"
      ]
     },
     "execution_count": 101,
     "metadata": {},
     "output_type": "execute_result"
    }
   ],
   "source": [
    "x.pop(0)"
   ]
  },
  {
   "cell_type": "code",
   "execution_count": 103,
   "metadata": {},
   "outputs": [
    {
     "name": "stdout",
     "output_type": "stream",
     "text": [
      "[0, 1, 2, 3, 4, 5, 6, 7, 8, 9, 10, 13, 14, 15, 16, 17, 18, 19, 100, 0, 1, 2, 3, 4, 5, 6, 7, 8, 9, 10, 11, 12, 13, 14, 15, 16, 17, 18]\n"
     ]
    }
   ],
   "source": [
    "print(x)"
   ]
  },
  {
   "cell_type": "markdown",
   "metadata": {},
   "source": [
    "<a id='section14b'></a>\n",
    "### Organizing data with dictionaries"
   ]
  },
  {
   "cell_type": "code",
   "execution_count": 8,
   "metadata": {},
   "outputs": [
    {
     "data": {
      "text/plain": [
       "{'one': 1, 'two': 2, 'three': 3}"
      ]
     },
     "execution_count": 8,
     "metadata": {},
     "output_type": "execute_result"
    }
   ],
   "source": [
    "d = {'one': 1, 'two': 2, 'three': 3}\n",
    "d"
   ]
  },
  {
   "cell_type": "code",
   "execution_count": 9,
   "metadata": {},
   "outputs": [
    {
     "data": {
      "text/plain": [
       "{'one': 1, 'two': 2, 'three': 3}"
      ]
     },
     "execution_count": 9,
     "metadata": {},
     "output_type": "execute_result"
    }
   ],
   "source": [
    "d = dict(one = 1, two = 2, three = 3)\n",
    "d"
   ]
  },
  {
   "cell_type": "code",
   "execution_count": 10,
   "metadata": {},
   "outputs": [
    {
     "name": "stdout",
     "output_type": "stream",
     "text": [
      "{'four': 4, 'five': 5, 'six': 6, 'one': 1, 'two': 2, 'three': 3}\n"
     ]
    }
   ],
   "source": [
    "x = dict(four = 4, five = 5, six = 6)\n",
    "s = dict(**x, **d)\n",
    "print(s)"
   ]
  },
  {
   "cell_type": "code",
   "execution_count": 11,
   "metadata": {},
   "outputs": [
    {
     "data": {
      "text/plain": [
       "True"
      ]
     },
     "execution_count": 11,
     "metadata": {},
     "output_type": "execute_result"
    }
   ],
   "source": [
    "'four' in s"
   ]
  },
  {
   "cell_type": "code",
   "execution_count": 12,
   "metadata": {},
   "outputs": [
    {
     "data": {
      "text/plain": [
       "False"
      ]
     },
     "execution_count": 12,
     "metadata": {},
     "output_type": "execute_result"
    }
   ],
   "source": [
    "'four' in d"
   ]
  },
  {
   "cell_type": "code",
   "execution_count": 13,
   "metadata": {},
   "outputs": [
    {
     "name": "stdout",
     "output_type": "stream",
     "text": [
      "four 4\n",
      "five 5\n",
      "six 6\n",
      "one 1\n",
      "two 2\n",
      "three 3\n"
     ]
    }
   ],
   "source": [
    "for k,v in s.items(): print(k,v)"
   ]
  },
  {
   "cell_type": "markdown",
   "metadata": {},
   "source": [
    "**Getting exception and using `.get` to avoid**"
   ]
  },
  {
   "cell_type": "code",
   "execution_count": 18,
   "metadata": {},
   "outputs": [
    {
     "ename": "KeyError",
     "evalue": "'three'",
     "output_type": "error",
     "traceback": [
      "\u001b[0;31m---------------------------------------------------------------------------\u001b[0m",
      "\u001b[0;31mKeyError\u001b[0m                                  Traceback (most recent call last)",
      "\u001b[0;32m<ipython-input-18-e041d7c36e6c>\u001b[0m in \u001b[0;36m<module>\u001b[0;34m\u001b[0m\n\u001b[1;32m      1\u001b[0m \u001b[0;31m# getting an error here\u001b[0m\u001b[0;34m\u001b[0m\u001b[0;34m\u001b[0m\u001b[0;34m\u001b[0m\u001b[0m\n\u001b[0;32m----> 2\u001b[0;31m \u001b[0mx\u001b[0m\u001b[0;34m[\u001b[0m\u001b[0;34m'three'\u001b[0m\u001b[0;34m]\u001b[0m\u001b[0;34m\u001b[0m\u001b[0;34m\u001b[0m\u001b[0m\n\u001b[0m",
      "\u001b[0;31mKeyError\u001b[0m: 'three'"
     ]
    }
   ],
   "source": [
    "# getting an error here\n",
    "x['three']"
   ]
  },
  {
   "cell_type": "code",
   "execution_count": 16,
   "metadata": {},
   "outputs": [],
   "source": [
    "x.get('three')"
   ]
  },
  {
   "cell_type": "code",
   "execution_count": 19,
   "metadata": {},
   "outputs": [
    {
     "data": {
      "text/plain": [
       "'Sorry, not found'"
      ]
     },
     "execution_count": 19,
     "metadata": {},
     "output_type": "execute_result"
    }
   ],
   "source": [
    "# using get with an optional message\n",
    "x.get('three', 'Sorry, not found')"
   ]
  },
  {
   "cell_type": "code",
   "execution_count": 115,
   "metadata": {},
   "outputs": [
    {
     "name": "stdout",
     "output_type": "stream",
     "text": [
      "{'five': 5, 'six': 6}\n"
     ]
    }
   ],
   "source": [
    "del x['four']\n",
    "print(x)"
   ]
  },
  {
   "cell_type": "code",
   "execution_count": 116,
   "metadata": {},
   "outputs": [
    {
     "data": {
      "text/plain": [
       "5"
      ]
     },
     "execution_count": 116,
     "metadata": {},
     "output_type": "execute_result"
    }
   ],
   "source": [
    "x.pop('five')"
   ]
  },
  {
   "cell_type": "code",
   "execution_count": 117,
   "metadata": {},
   "outputs": [
    {
     "data": {
      "text/plain": [
       "{'six': 6}"
      ]
     },
     "execution_count": 117,
     "metadata": {},
     "output_type": "execute_result"
    }
   ],
   "source": [
    "x"
   ]
  },
  {
   "cell_type": "code",
   "execution_count": 134,
   "metadata": {},
   "outputs": [],
   "source": [
    "def printMe():\n",
    "    print('hello world')\n",
    "\n",
    "f = dict(one = printMe, two = printMe)"
   ]
  },
  {
   "cell_type": "code",
   "execution_count": 138,
   "metadata": {},
   "outputs": [
    {
     "name": "stdout",
     "output_type": "stream",
     "text": [
      "<function printMe at 0x104848f28>\n",
      "<function printMe at 0x104848f28>\n"
     ]
    }
   ],
   "source": [
    "for k in f.values() : print(k)"
   ]
  },
  {
   "cell_type": "code",
   "execution_count": 139,
   "metadata": {},
   "outputs": [
    {
     "name": "stdout",
     "output_type": "stream",
     "text": [
      "hello world\n",
      "None\n",
      "hello world\n",
      "None\n"
     ]
    }
   ],
   "source": [
    "for k in f.values() : print(k())"
   ]
  },
  {
   "cell_type": "markdown",
   "metadata": {},
   "source": [
    "<a id='section14c'></a>\n",
    "### Operating on character data with bytes and byte arrays"
   ]
  },
  {
   "cell_type": "code",
   "execution_count": 143,
   "metadata": {},
   "outputs": [
    {
     "name": "stdout",
     "output_type": "stream",
     "text": [
      "This is a UTF-8 file. \n",
      "It has some interesting characters in it. \n",
      "&#1641;(&#0865;&#3663;&#0815;&#0865;&#3663;)&#1782;\n",
      "\n",
      "Done.\n"
     ]
    }
   ],
   "source": [
    "def main():\n",
    "    fin = open('./14 Containers/utf8.txt','r', encoding='utf_8')\n",
    "    fout = open('utf8.html', 'w')\n",
    "    outbytes = bytearray()\n",
    "    for line in fin:\n",
    "        for c in line:\n",
    "            if ord(c) > 127:\n",
    "                outbytes += bytes('&#{:04d};'.format(ord(c)), encoding = 'utf_8')\n",
    "            else:\n",
    "                outbytes.append(ord(c))\n",
    "    outstr = str(outbytes, encoding = 'utf_8')\n",
    "    print(outstr, file = fout)\n",
    "    print(outstr)\n",
    "    print('Done.')\n",
    "\n",
    "if __name__ == \"__main__\": main()"
   ]
  },
  {
   "cell_type": "markdown",
   "metadata": {},
   "source": [
    "<a id='section15'></a>\n",
    "# 15. File I/O\n",
    "[Top](#top)"
   ]
  },
  {
   "cell_type": "markdown",
   "metadata": {},
   "source": [
    "## Opening Files"
   ]
  },
  {
   "cell_type": "code",
   "execution_count": 110,
   "metadata": {},
   "outputs": [
    {
     "name": "stdout",
     "output_type": "stream",
     "text": [
      "This is the first line of text\n",
      "This is the second line of text\n",
      "This is the third line of text\n",
      "This is the fourth line of text\n",
      "This is the fifth line of text\n",
      "This is the last line of text"
     ]
    }
   ],
   "source": [
    "def main():\n",
    "    f = open('lines.txt') # read mode is the default r\n",
    "    for line in f:\n",
    "        print(line, end = '')\n",
    "\n",
    "if __name__ == \"__main__\": main()"
   ]
  },
  {
   "cell_type": "code",
   "execution_count": 111,
   "metadata": {},
   "outputs": [
    {
     "name": "stdout",
     "output_type": "stream",
     "text": [
      "This is the first line of text\n",
      "This is the second line of text\n",
      "This is the third line of text\n",
      "This is the fourth line of text\n",
      "This is the fifth line of text\n",
      "This is the last line of text"
     ]
    }
   ],
   "source": [
    "def main():\n",
    "    f = open('lines.txt', 'r') \n",
    "    for line in f.readlines():\n",
    "        print(line, end = '')\n",
    "\n",
    "if __name__ == \"__main__\": main()"
   ]
  },
  {
   "cell_type": "markdown",
   "metadata": {},
   "source": [
    "<a id='section15a'></a>\n",
    "## Reading and Writing Text files"
   ]
  },
  {
   "cell_type": "code",
   "execution_count": 112,
   "metadata": {},
   "outputs": [
    {
     "name": "stdout",
     "output_type": "stream",
     "text": [
      "Done.\n"
     ]
    }
   ],
   "source": [
    "def main():\n",
    "    infile = open('lines.txt') # read mode is the default r\n",
    "    outfile = open('new.txt', 'w')\n",
    "    for line in infile:\n",
    "        print(line, file = outfile, end = '')\n",
    "    print('Done.')\n",
    "\n",
    "if __name__ == \"__main__\": main()"
   ]
  },
  {
   "cell_type": "markdown",
   "metadata": {},
   "source": [
    "**Working with big files**  \n",
    "Reading in buffer bytes, for examples infile.read(50000) means read\n",
    "at most 50000 bytes from infile, then read the next 50000 bytes. This\n",
    "way we are reading in chunks instead of one line at a time.\n",
    "\n",
    "**`file.read([size])`**  \n",
    "\n",
    "Read at most size bytes from the file (less if the read hits EOF before obtaining size bytes). If the size argument is negative or omitted, read all data until EOF is reached. The bytes are returned as a string object. An empty string is returned when EOF is encountered immediately. (For certain files, like ttys, it makes sense to continue reading after an EOF is hit.) Note that this method may call the underlying C function fread() more than once in an effort to acquire as close to size bytes as possible. Also note that when in non-blocking mode, less data than was requested may be returned, even if no size parameter was given.\n",
    "\n",
    "**buffer is not the file but what you last read from the file. len(buffer) will evaluate to False when buffer is empty, i.e. when there's no more data to read from the file.**"
   ]
  },
  {
   "cell_type": "code",
   "execution_count": 113,
   "metadata": {},
   "outputs": [
    {
     "name": "stdout",
     "output_type": "stream",
     "text": [
      "............................................\n",
      "Done.\n"
     ]
    }
   ],
   "source": [
    "def main():\n",
    "    buffersize = 50000\n",
    "    infile = open('bigfile.txt', 'r') \n",
    "    outfile = open('newbigfile.txt', 'w')\n",
    "    buffer = infile.read(buffersize) #\n",
    "    \n",
    "    while len(buffer):\n",
    "        outfile.write(buffer)\n",
    "        print('.', end = '')\n",
    "        buffer = infile.read(buffersize)\n",
    "    print()\n",
    "    print('Done.')\n",
    "\n",
    "if __name__ == \"__main__\": main()"
   ]
  },
  {
   "cell_type": "markdown",
   "metadata": {},
   "source": [
    "<a id='section15b'></a>\n",
    "## Reading and writing binary files \n",
    "There is a difference when working with Text files vs working with Binary files"
   ]
  },
  {
   "cell_type": "code",
   "execution_count": 114,
   "metadata": {},
   "outputs": [
    {
     "name": "stdout",
     "output_type": "stream",
     "text": [
      "..\n",
      "Done.\n"
     ]
    }
   ],
   "source": [
    "def main():\n",
    "    buffersize = 50000\n",
    "    infile = open('olives.jpg', 'rb')  #open in read binary mode\n",
    "    outfile = open('new.jpg', 'wb')\n",
    "    buffer = infile.read(buffersize)\n",
    "                        \n",
    "    while len(buffer):\n",
    "        outfile.write(buffer)\n",
    "        print('.', end = '')\n",
    "        buffer = infile.read(buffersize)\n",
    "    print()\n",
    "    print('Done.')\n",
    "    \n",
    "if __name__ == \"__main__\": main()"
   ]
  },
  {
   "cell_type": "markdown",
   "metadata": {},
   "source": [
    "<a id='section16'></a>\n",
    "# 16. Databases\n",
    "[Top](#top)"
   ]
  },
  {
   "cell_type": "markdown",
   "metadata": {},
   "source": [
    "<a id='section16a'></a>\n",
    "### Creating a database with SQLite 3"
   ]
  },
  {
   "cell_type": "code",
   "execution_count": 115,
   "metadata": {},
   "outputs": [
    {
     "name": "stdout",
     "output_type": "stream",
     "text": [
      "(1, 'one')\n",
      "(2, 'two')\n",
      "(3, 'three')\n",
      "(4, 'four')\n"
     ]
    }
   ],
   "source": [
    "import sqlite3\n",
    "\n",
    "def main():\n",
    "    db = sqlite3.connect('test.db')\n",
    "    db.execute('drop table if exists test')\n",
    "    db.execute('create table test (t1 text, i1 int)')\n",
    "    db.execute('insert into test (t1, i1) values (?,?)', ('one', 1))\n",
    "    db.execute('insert into test (t1, i1) values (?,?)', ('two', 2))\n",
    "    db.execute('insert into test (t1, i1) values (?,?)', ('three', 3))\n",
    "    db.execute('insert into test (t1, i1) values (?,?)', ('four', 4))\n",
    "    db.commit()\n",
    "    cursor = db.execute('select i1, t1 from test order by i1')\n",
    "    \n",
    "    for row in cursor:\n",
    "        print(row)  #data comes back in tuples\n",
    "    \n",
    "if __name__ == \"__main__\": main()\n"
   ]
  },
  {
   "cell_type": "markdown",
   "metadata": {},
   "source": [
    "**row is an interable in the example below because we used row_factory to create a row object. We can convert it into a Dictionary**"
   ]
  },
  {
   "cell_type": "code",
   "execution_count": 116,
   "metadata": {},
   "outputs": [
    {
     "name": "stdout",
     "output_type": "stream",
     "text": [
      "{'i1': 1, 't1': 'one'}\n",
      "{'i1': 2, 't1': 'two'}\n",
      "{'i1': 3, 't1': 'three'}\n",
      "{'i1': 4, 't1': 'four'}\n"
     ]
    }
   ],
   "source": [
    "import sqlite3\n",
    "\n",
    "def main():\n",
    "    db = sqlite3.connect('test.db')\n",
    "    db.row_factory = sqlite3.Row #created row objects\n",
    "    db.execute('drop table if exists test')\n",
    "    db.execute('create table test (t1 text, i1 int)')\n",
    "    db.execute('insert into test (t1, i1) values (?,?)', ('one', 1))\n",
    "    db.execute('insert into test (t1, i1) values (?,?)', ('two', 2))\n",
    "    db.execute('insert into test (t1, i1) values (?,?)', ('three', 3))\n",
    "    db.execute('insert into test (t1, i1) values (?,?)', ('four', 4))\n",
    "    db.commit()\n",
    "    cursor = db.execute('select i1, t1 from test order by i1')\n",
    "    \n",
    "    for row in cursor:\n",
    "        print(dict(row))  #data comes back in tuples\n",
    "    \n",
    "if __name__ == \"__main__\": main()\n",
    "\n"
   ]
  },
  {
   "cell_type": "code",
   "execution_count": 117,
   "metadata": {},
   "outputs": [
    {
     "name": "stdout",
     "output_type": "stream",
     "text": [
      "one 1\n",
      "two 2\n",
      "three 3\n",
      "four 4\n"
     ]
    }
   ],
   "source": [
    "db = sqlite3.connect('test.db')\n",
    "db.row_factory = sqlite3.Row\n",
    "cursor = db.execute('select i1, t1 from test order by i1')\n",
    "    \n",
    "for row in cursor:\n",
    "    print(row['t1'], row['i1'])  #data comes back in tuples"
   ]
  },
  {
   "cell_type": "markdown",
   "metadata": {},
   "source": [
    "<a id='section16b'></a>\n",
    "### Creating, retrieving, updating and deleting records (CRUD)"
   ]
  },
  {
   "cell_type": "code",
   "execution_count": 118,
   "metadata": {},
   "outputs": [
    {
     "name": "stdout",
     "output_type": "stream",
     "text": [
      "Create table test\n",
      "Create rows\n",
      "  four: 4\n",
      "  one: 1\n",
      "  three: 3\n",
      "  two: 2\n",
      "Retrieve rows\n",
      "{'i1': 1, 't1': 'one'} {'i1': 2, 't1': 'two'}\n",
      "Update rows\n",
      "  four: 4\n",
      "  one: 101\n",
      "  three: 103\n",
      "  two: 2\n",
      "Delete rows\n",
      "  four: 4\n",
      "  two: 2\n"
     ]
    }
   ],
   "source": [
    "import sqlite3\n",
    "\n",
    "def insert(db, row):\n",
    "    db.execute('insert into test (t1, i1) values (?, ?)', (row['t1'], row['i1']))\n",
    "    db.commit()\n",
    "\n",
    "def retrieve(db, t1):\n",
    "    cursor = db.execute('select * from test where t1 = ?', (t1,))\n",
    "    return cursor.fetchone()\n",
    "\n",
    "def update(db, row):\n",
    "    db.execute('update test set i1 = ? where t1 = ?', (row['i1'], row['t1']))\n",
    "    db.commit()\n",
    "\n",
    "def delete(db, t1):\n",
    "    db.execute('delete from test where t1 = ?', (t1,))\n",
    "    db.commit()\n",
    "\n",
    "def disp_rows(db):\n",
    "    cursor = db.execute('select * from test order by t1')\n",
    "    for row in cursor:\n",
    "        print('  {}: {}'.format(row['t1'], row['i1']))\n",
    "\n",
    "def main():\n",
    "    db = sqlite3.connect('test2.db')\n",
    "    db.row_factory = sqlite3.Row\n",
    "    print('Create table test')\n",
    "    db.execute('drop table if exists test')\n",
    "    db.execute('create table test ( t1 text, i1 int )')\n",
    "\n",
    "    print('Create rows')\n",
    "    insert(db, dict(t1 = 'one', i1 = 1))\n",
    "    insert(db, dict(t1 = 'two', i1 = 2))\n",
    "    insert(db, dict(t1 = 'three', i1 = 3))\n",
    "    insert(db, dict(t1 = 'four', i1 = 4))\n",
    "    disp_rows(db)\n",
    "\n",
    "    print('Retrieve rows')\n",
    "    print(dict(retrieve(db, 'one')), dict(retrieve(db, 'two')))\n",
    "\n",
    "    print('Update rows')\n",
    "    update(db, dict(t1 = 'one', i1 = 101))\n",
    "    update(db, dict(t1 = 'three', i1 = 103))\n",
    "    disp_rows(db)\n",
    "\n",
    "    print('Delete rows')\n",
    "    delete(db, 'one')\n",
    "    delete(db, 'three')\n",
    "    disp_rows(db)\n",
    "\n",
    "if __name__ == \"__main__\": main()\n"
   ]
  },
  {
   "cell_type": "markdown",
   "metadata": {},
   "source": [
    "<a id='section16c'></a>\n",
    "### Creating a Database Object"
   ]
  },
  {
   "cell_type": "code",
   "execution_count": 119,
   "metadata": {},
   "outputs": [
    {
     "name": "stdout",
     "output_type": "stream",
     "text": [
      "Create table test\n",
      "Create rows\n",
      "{'i1': 4, 't1': 'four'}\n",
      "{'i1': 1, 't1': 'one'}\n",
      "{'i1': 3, 't1': 'three'}\n",
      "{'i1': 2, 't1': 'two'}\n",
      "Retrieve rows\n",
      "{'i1': 1, 't1': 'one'} {'i1': 2, 't1': 'two'}\n",
      "Update rows\n",
      "{'i1': 4, 't1': 'four'}\n",
      "{'i1': 101, 't1': 'one'}\n",
      "{'i1': 103, 't1': 'three'}\n",
      "{'i1': 2, 't1': 'two'}\n",
      "Delete rows\n",
      "{'i1': 4, 't1': 'four'}\n",
      "{'i1': 2, 't1': 'two'}\n"
     ]
    }
   ],
   "source": [
    "class database:\n",
    "    def __init__(self, **kwargs):\n",
    "        self.filename = kwargs.get('filename')\n",
    "        self.table = kwargs.get('table', 'test')\n",
    "    \n",
    "    def sql_do(self, sql, *params):\n",
    "        self._db.execute(sql, params)\n",
    "        self._db.commit()\n",
    "    \n",
    "    def insert(self, row):\n",
    "        self._db.execute('insert into {} (t1, i1) values (?, ?)'.format(self._table), (row['t1'], row['i1']))\n",
    "        self._db.commit()\n",
    "    \n",
    "    def retrieve(self, key):\n",
    "        cursor = self._db.execute('select * from {} where t1 = ?'.format(self._table), (key,))\n",
    "        return dict(cursor.fetchone())\n",
    "    \n",
    "    def update(self, row):\n",
    "        self._db.execute(\n",
    "            'update {} set i1 = ? where t1 = ?'.format(self._table),\n",
    "            (row['i1'], row['t1']))\n",
    "        self._db.commit()\n",
    "    \n",
    "    def delete(self, key):\n",
    "        self._db.execute('delete from {} where t1 = ?'.format(self._table), (key,))\n",
    "        self._db.commit()\n",
    "\n",
    "    def disp_rows(self):\n",
    "        cursor = self._db.execute('select * from {} order by t1'.format(self._table))\n",
    "        for row in cursor:\n",
    "            print('  {}: {}'.format(row['t1'], row['i1']))\n",
    "\n",
    "    def __iter__(self):\n",
    "        cursor = self._db.execute('select * from {} order by t1'.format(self._table))\n",
    "        for row in cursor:\n",
    "            yield dict(row)\n",
    "\n",
    "    @property\n",
    "    def filename(self): return self._filename\n",
    "\n",
    "    @filename.setter\n",
    "    def filename(self, fn):\n",
    "        self._filename = fn\n",
    "        self._db = sqlite3.connect(fn)\n",
    "        self._db.row_factory = sqlite3.Row\n",
    "\n",
    "    @filename.deleter\n",
    "    def filename(self): self.close()\n",
    "\n",
    "    @property\n",
    "    def table(self): return self._table\n",
    "    @table.setter\n",
    "    def table(self, t): self._table = t\n",
    "    @table.deleter\n",
    "    def table(self): self._table = 'test'\n",
    "\n",
    "    def close(self):\n",
    "            self._db.close()\n",
    "            del self._filename\n",
    "\n",
    "def main():\n",
    "    db = database(filename = 'test.db', table = 'test')\n",
    "\n",
    "    print('Create table test')\n",
    "    db.sql_do('drop table if exists test')\n",
    "    db.sql_do('create table test ( t1 text, i1 int )')\n",
    "\n",
    "    print('Create rows')\n",
    "    db.insert(dict(t1 = 'one', i1 = 1))\n",
    "    db.insert(dict(t1 = 'two', i1 = 2))\n",
    "    db.insert(dict(t1 = 'three', i1 = 3))\n",
    "    db.insert(dict(t1 = 'four', i1 = 4))\n",
    "    for row in db: print(row)\n",
    "\n",
    "    print('Retrieve rows')\n",
    "    print(db.retrieve('one'), db.retrieve('two'))\n",
    "\n",
    "    print('Update rows')\n",
    "    db.update(dict(t1 = 'one', i1 = 101))\n",
    "    db.update(dict(t1 = 'three', i1 = 103))\n",
    "    for row in db: print(row)\n",
    "\n",
    "    print('Delete rows')\n",
    "    db.delete('one')\n",
    "    db.delete('three')\n",
    "    for row in db: print(row)\n",
    "\n",
    "if __name__ == \"__main__\": main()"
   ]
  },
  {
   "cell_type": "markdown",
   "metadata": {},
   "source": [
    "<a id='section17'></a>\n",
    "# 17. Modules\n",
    "[Top](#top)"
   ]
  },
  {
   "cell_type": "markdown",
   "metadata": {},
   "source": [
    "### Using Standard Library Modules \n",
    "### Example: `sys`, `os`, `urllib`, `random`, `datetime`"
   ]
  },
  {
   "cell_type": "code",
   "execution_count": 120,
   "metadata": {},
   "outputs": [
    {
     "name": "stdout",
     "output_type": "stream",
     "text": [
      "Python version 3.5.5\n",
      "Platform Name:  darwin\n",
      "OS Name:  posix\n",
      "/anaconda3/bin:/Library/TeX/texbin:/Applications/Genymotion.app/Contents/MacOS/tools:/Users/tarekatwan/.nvm/versions/node/v9.2.0/bin:/anaconda3/bin:/Users/tarekatwan/bin:/usr/local/bin:/usr/local/bin:/usr/bin:/bin:/usr/sbin:/sbin:/Library/TeX/texbin:/opt/X11/bin\n",
      "Working Directory:  /Users/tarekatwan/Documents/GitHubRepos/Learn-Python-3\n",
      "set of random bytes :  b'\\x0e\\x89m\\x14sx\\x84O\\xf8\\xb8r\\x12\\xc9\\x05\\x83\\x08m\\xa9`\\xaf\\x9e\\xe6/\\xe9c'\n"
     ]
    }
   ],
   "source": [
    "import sys\n",
    "\n",
    "def main():\n",
    "    print('Python version {}.{}.{}'.format(*sys.version_info))\n",
    "    print('Platform Name: ', sys.platform)\n",
    "    \n",
    "    import os #can import modules selectively inside a function for example\n",
    "    print('OS Name: ', os.name)\n",
    "    print(os.getenv('PATH'))\n",
    "    print('Working Directory: ', os.getcwd())\n",
    "    print('set of random bytes : ', os.urandom(25))\n",
    "    \n",
    "\n",
    "\n",
    "if __name__ == \"__main__\": main()"
   ]
  },
  {
   "cell_type": "code",
   "execution_count": 126,
   "metadata": {},
   "outputs": [
    {
     "name": "stdout",
     "output_type": "stream",
     "text": [
      "<title> Bill Weinman </title>\n",
      "\n",
      "<link rel=\"SHORTCUT ICON\" href=\"https://i.bw.org/bw/bw.ico\" />\n",
      "<link rel=\"alternate\" type=\"application/rss+xml\" title=\"Bill Weinman's Technology Blog\" href=\"http://billweinman.wordpress.com/feed/\" />\n",
      "<link rel=\"stylesheet\" type=\"text/css\" href=\"https://i.bw.org/css/main.css\" />\n",
      "<!--\n",
      "    This is what old klugifed legacy code looks like. Horrible, ain't it? \n",
      "-->\n",
      "</head>\n",
      "\n",
      "<body bgcolor=white background=\"https://i.bw.org/bw/bw-bg.png\" text=\"#000000\" link=\"#333333\" vlink=\"#333333\" alink=\"#663333\"\n",
      "  leftmargin=8>\n",
      "\n",
      "<a name=\"top\"></a>\n",
      "<table cellpadding=0 cellspacing=0 border=0><tr><td height=5></td><tr></table>\n",
      "\n",
      "<table width=800 height=\"75%\" cellspacing=0 cellpadding=0 border=0>\n",
      "  <tr valign=top>\n",
      "    <td width=100 valign=top align=center>\n",
      "\n",
      "<a href=\"https://bw.org/\"><img src=\"https://i.bw.org/bw/bw-logo-100.gif\" width=100 height=50 alt=\"BW\" border=0></a>\n",
      "\n",
      "<table cellpadding=0 cellspacing=0 border=0><tr><td height=10></td><tr></table>\n",
      "\n",
      "          <!-- menu -->\n",
      "      <table cellpadding=0 cellspacing=0 border=0><tr><td bgcolor=white>\n",
      "      <table cellpadding=0 cellspacing=1 border=0>\n",
      "        <tr><td width=100 bgcolor=black>\n",
      "        <table width=\"100%\" cellpadding=0 cellspacing=2 border=0>\n",
      "        <tr><td bgcolor=black width=\"100%\" align=center>\n",
      "          <span class=\"menu-title\">Main Menu</span>\n",
      "        </td></tr>\n",
      "        <tr><td bgcolor=white width=\"100%\" align=left class=small>\n",
      "          <font face=\"verdana,helvetica,arial\" size=1 color=black>\n",
      "          <a class=menu href=\"http://bw.org/\" title=\"BW Home\">Home</a><br>\n",
      "          <a class=menu href=\"http://bw.org/contact/\">Contact Bill</a><br>\n",
      "          <a class=menu href=\"http://bw.org/ldcfaq\">lynda.com FAQ</a><br>\n",
      "          <a class=menu href=\"http://bw.org/u/fb01\" title=\"BW on Facebook\">Facebook</a><br>\n",
      "          <a class=menu href=\"http://bw.org/u/li01\" title=\"BW on Linked In\">Linked In</a><br>\n",
      "          <a class=menu href=\"http://bw.org/u/tw01\" title=\"BW on Twitter\">Twitter</a><br>\n",
      "          <a class=menu href=\"http://amtp.bw.org/\" title=\"AMTP -- a replacement for SMTP\">AMTP</a><br>\n",
      "          <a class=menu href=\"http://bw.org/bio.html\" title=\"About Bill\">Bio</a><br>\n",
      "          <a class=menu href=\"http://bw.org/available/\">Hire Bill</a><br>\n",
      "          <a class=menu href=\"http://music.bw.org/\" title=\"Original Music by Bill Weinman\">Bill&rsquo;s Music</a><br>\n",
      "          <a class=menu href=\"http://whois.bw.org/\">BW Whois</a><br>\n",
      "          <a class=menu href=\"http://bw.org/ube/boulder.html\">Boulder Pledge</a><br>\n",
      "          <a class=menu href=\"http://bw.org/ube/\" title=\"UBE-Related (Anti-Spam) Work\">UBE-Related</a><br>\n",
      "          <a class=menu href=\"http://blog.bw.org/\" title=\"Bill&rsquo;s Blog\">Blog</a><br>\n",
      "          <a class=menu href=\"http://cgi.bw.org/\" title=\"Bill&rsquo;s Simple CGI Scripts\">CGI Scripts</a><br>\n",
      "          <a class=menu href=\"http://cms.bw.org/\" title=\"Content Management System\">CMS Project</a><br>\n",
      "          <a class=menu href=\"http://webmusicdb.com/\" title=\"The Web Music Database (webmusicdb.com)\">Music DB</a><br>\n",
      "          <a class=menu href=\"http://htmlbook.com/\" title=\"Creative HTML Design\">Creative HTML</a><br>\n",
      "          <a class=menu href=\"http://cgibook.com/\">The CGI Book</a><br>\n",
      "          <a class=menu href=\"http://perlbook.com/\" title=\"Bill&rsquo;s New Perl Book (in progress)\">Perl Book</a><br>\n",
      "          <a class=menu href=\"http://www.weinman.com/wew/\" title=\"Bill&rsquo;s original splash page\">BillyDos</a><br>\n",
      "          <a class=menu href=\"http://bw.org/privacy.html\" title=\"Privacy Statement\">Privacy</a><br>\n",
      "          <a class=menu href=\"http://bw.org/end/\" title=\"The end of the Internet\">The End</a><br>\n",
      "          <table cellpadding=0 cellspacing=0 border=0>  <!-- vertical spacer -->\n",
      "             <tr><td height=5></td></tr></table> \n",
      "        </td></tr></table></td></tr>\n",
      "      </table>\n",
      "      </td></tr></table>\n",
      "\n",
      "\n",
      "\n",
      "<table cellpadding=0 cellspacing=0 border=0><tr><td height=5></td><tr></table>\n",
      "\n",
      "<!-- paypal donation button -->\n",
      "<table cellpadding=0 cellspacing=0 border=0><tr><td bgcolor=black>\n",
      "<table cellpadding=2 cellspacing=2 border=0><tr><td bgcolor=white>\n",
      "  <form action=\"https://www.paypal.com/cgi-bin/webscr\" method=\"post\">\n",
      "  <input type=\"hidden\" name=\"cmd\" value=\"_xclick\">\n",
      "  <input type=\"hidden\" name=\"business\" value=\"opensource@bw.org\">\n",
      "  <input type=\"hidden\" name=\"item_name\" value=\"BW Open Source Donation\">\n",
      "  <input type=\"hidden\" name=\"no_shipping\" value=\"1\">\n",
      "  <input type=\"hidden\" name=\"return\" value=\"https://bw.org/donation-thankyou.html\">\n",
      "  <input type=\"hidden\" name=\"cancel_return\" value=\"https://bw.org/\">\n",
      "  <input type=\"image\" vspace=2 hspace=5 align=left src=\"https://i.bw.org/bw/paypal-donate.gif\" border=\"0\" name=\"submit\" \n",
      "    alt=\"Make payments with PayPal - it's fast, free and secure!\">\n",
      "  </form>\n",
      "</td></tr></table>\n",
      "</td></tr></table>\n",
      "<!-- end paypal donation button -->\n",
      "\n",
      "\n",
      "\n",
      "<table cellpadding=0 cellspacing=0 border=0><tr><td height=5></td><tr></table>\n",
      "\n",
      "<!-- Sponsored Links -->\n",
      "\n",
      "  <table cellpadding=0 cellspacing=0 border=0 width=100><tr><td bgcolor=white>\n",
      "  <table cellpadding=0 cellspacing=1 border=0>\n",
      "    <tr><td width=100 bgcolor=black>\n",
      "    <table width=\"100%\" cellpadding=0 cellspacing=2 border=0>\n",
      "    <tr><td bgcolor=black width=\"100%\" align=center>\n",
      "      <font face=\"tahoma,verdana,helvetica,arial\" size=2 color=white>\n",
      "      <b><a href=\"http://bw.org/donate.html\" class=\"menu-title\">&middot; Sponsors &middot; </a></b>\n",
      "      </font>\n",
      "    </td></tr>\n",
      "    <tr><td bgcolor=white width=\"100%\" align=center>\n",
      "\n",
      "    <table cellpadding=0 cellspacing=0 border=0>\n",
      "    <tr><td height=5></td></tr>\n",
      "\n",
      "    <tr><td align=center class=\"textad\"><a class=\"textad\" target=\"_blank\" \n",
      "      href=\"http://bw.org/u/ldc00\">lynda.com video tutorials</a>\n",
      "\n",
      "    <tr><td align=center class=\"textad\"><a class=\"textad\" target=\"_blank\" \n",
      "      href=\"http://www.amazon.com/?_encoding=UTF8&tag=bw-org-20\">amazon.com</a>\n",
      "\n",
      "    <tr><td align=center class=\"textad\"><a class=\"textad\" target=\"_blank\" \n",
      "      href=\"http://www.ConqueringArthritis.com/\">Rheumatoid Arthritis</a></td></tr>\n",
      "\n",
      "    <td height=5></td><tr>\n",
      "    </table>\n",
      "\n",
      "    </td></tr></table></td></tr>\n",
      "  </table>\n",
      "  </td></tr></table>\n",
      "\n",
      "<!-- end Sponsored Links -->\n",
      "\n",
      "\n",
      "\n",
      "<table cellpadding=0 cellspacing=0 border=0><tr><td height=5></td><tr></table>\n",
      "\n",
      "<table width=100 cellpadding=0 cellspacing=0 border=0><tr><td align=center>\n",
      "<table cellpadding=0 cellspacing=0 border=0><tr><td bgcolor=white>\n",
      "<table cellpadding=0 cellspacing=1 border=0>\n",
      "  <tr><td bgcolor=black>\n",
      "    <table cellpadding=0 cellspacing=2 border=0 width=\"100%\">\n",
      "      <tr><td bgcolor=white align=center>\n",
      "        <a href=\"https://bw.org/\"><img src=\"https://i.bw.org/bw/bw-designed-by.gif\"\n",
      "          width=100 height=26 border=0 \n",
      "          alt=\"Site Design: Bill Weinman\" Title=\"Site Design: Bill Weinman\"></a></td></tr>\n",
      "    </table>\n",
      "  </td></tr>\n",
      "</table>\n",
      "</td></tr></table>\n",
      "</td></tr></table>\n",
      "\n",
      "<table cellpadding=0 cellspacing=0 border=0><tr><td height=10></td><tr></table>\n",
      "\n",
      "<div class=\"outer\">\n",
      "<div id=\"copyright\">\n",
      "    <p>\n",
      "        &copy;&nbsp;1972&ndash;2018 <a href=\"http://bhg.bw.org/\" class=\"no-highlight\">BHG&nbsp;LLC</a>\n",
      "    </p>\n",
      "</div>\n",
      "</div>\n",
      "\n",
      "\n",
      "  </td>\n",
      "  <td width=20><img src=\"https://i.bw.org/bw/blank.gif\" width=20 height=1 border=0></td> <!-- space between columns --> \n",
      "\n",
      "  <td id=\"mainBody\" width=668 align=left valign=top>\n",
      "\n",
      "\n",
      "<p id=\"updated\">\n",
      "    updated 16 December 2014\n",
      "\n",
      "</p>\n",
      "\n",
      "<div id=\"socialMedia\">\n",
      "<p class=\"small text\" style=\"text-align: center\"> Connect with Bill </p>\n",
      "<p>\n",
      "<a href=\"https://bw.org/u/fb01\" target=\"_blank\" title=\"Facebook\"><img \n",
      "    src=\"https://bw.org/images/icons/Facebook-24x24.png\" width=\"24\" height=\"24\" border=\"0\" alt=\"Facebook\"></a>\n",
      "<a href=\"https://bw.org/u/li01\" target=\"_blank\" title=\"Linked In\"><img \n",
      "    src=\"https://bw.org/images/icons/Linked-In-24x24.png\" width=\"24\" height=\"24\" border=\"0\" alt=\"Linked In\"></a>\n",
      "<a href=\"https://bw.org/u/tw01\" target=\"_blank\" title=\"Twiter Feed\"><img \n",
      "    src=\"https://bw.org/images/icons/Twitter-24x24.png\" width=\"24\" height=\"24\" border=\"0\" alt=\"Twitter Feed\"></a><br/>\n",
      "</p></div>\n",
      "\n",
      "\n",
      "<h1 id=\"heading\"> Bill Weinman </h1>\n",
      "\n",
      "<p class=\"first\">\n",
      "Bill Weinman is a programmer, author, musician, and technologist, in no particular order. \n",
      "See Bill's <a href=\"bio.html\">biography</a> and his <a href=\"resume/\">r&eacute;sum&eacute;/<span style=\"font-size: 85%\">CV</span></a> for more information. \n",
      "</p>\n",
      "\n",
      "<iframe\n",
      "    src=\"https://www.facebook.com/plugins/likebox.php?id=194622569546&amp;width=292&amp;connections=10&amp;stream=true&amp;header=false&amp;height=587\"\n",
      "    scrolling=\"no\"\n",
      "    frameborder=\"0\"\n",
      "    style=\"float: right; border:none; overflow:hidden; width:292px; height:587px; padding-left: 3px;\"\n",
      "    allowTransparency=\"true\">\n",
      "</iframe>\n",
      "\n",
      "<h2>\n",
      "<a href=\"/u/ldc00\" class=\"noshade\" target=\"_blank\">lynda.com</a>\n",
      "Courses\n",
      "<span class=\"small\">[<a class=\"noshade\" href=\"/ldcfaq/\">FAQ</a>]</a>\n",
      "</h2>\n",
      "\n",
      "<p>\n",
      "  Bill is currently writing and delivering online courses for\n",
      "  <a href=\"/u/lynda.com\">lynda.com</a>,\n",
      "  the \n",
      "  <a href=\"/u/lynda.com\">premier source for online training.</a>\n",
      "  Some of his courses include:\n",
      "</p>\n",
      "\n",
      "<ul>\n",
      "    <li> <a href=\"http://u.bw.org/ldc-cpp\" target=\"_blank\">C++ Essential Training</a> <span class=\"small highlight\">NEW! December 2014</span> </li>\n",
      "    <li> <a href=\"http://u.bw.org/ldc-cppcc\" target=\"_blank\">C++ Code Clinic</a> <span class=\"small highlight\">NEW! July 2014</span> </li>\n",
      "    <li> <a href=\"http://u.bw.org/ldc-mysql2014\" target=\"_blank\">MySQL Essential Training</a> <span class=\"small highlight\">NEW! May 2014</span> </li>\n",
      "    <li> <a href=\"http://u.bw.org/ldc-sql2014\" target=\"_blank\">SQL Essential Training</a> <span class=\"small highlight\">NEW! March 2014</span> </li>\n",
      "    <li> <a href=\"http://u.bw.org/ldc-iossys\" target=\"_blank\">iOS 6: iOS System Resources</a> <span class=\"small\">August 2013</span> </li>\n",
      "    <li> <a href=\"http://u.bw.org/ldc-x4esst\" target=\"_blank\">Xcode 4 Essential Training</a> <span class=\"small\">March 2013</span> </li>\n",
      "    <li> <a href=\"http://u.bw.org/ldc-iossql\" target=\"_blank\">iOS SDK and SQLite: Building Data-Driven Apps</a> <span class=\"small\">January 2013</span> </li>\n",
      "    <li> <a href=\"http://u.bw.org/ldc-h5e12\" target=\"_blank\">HTML Essential Training</a> <span class=\"small \">September 2012</span> </li>\n",
      "    <li> <a href=\"http://u.bw.org/ldc-h5msg\" target=\"_blank\">HTML5: Messaging and Communications in Depth</a> <span class=\"small\">January 2012</span> </li>\n",
      "    <li> <a href=\"http://u.bw.org/ldc-docedit\" target=\"_blank\">HTML5: Document Editing in Depth</a> <span class=\"small\">January 2012</span> </li>\n",
      "    <li> <a href=\"http://u.bw.org/ldc-h5workers\" target=\"_blank\">HTML5: Background Processing with Web Workers</a> <span class=\"small\">January 2012</span> </li>\n",
      "    <li> <a href=\"http://u.bw.org/ldc-pgsql\" target=\"_blank\">PostgreSQL 9 with PHP Essential Training</a> <span class=\"small\">November 2011</span> </li>\n",
      "    <li> <a href=\"http://u.bw.org/ldc-h5dnd\" target=\"_blank\">HTML5: Drag and Drop in Depth</a> <span class=\"small\">July 2011</span> </li>\n",
      "    <li> <a href=\"http://u.bw.org/ldc-h5ls\" target=\"_blank\">HTML5: Local Storage and Offline Applications in Depth</a> <span class=\"small\">June 2011</span> </li>\n",
      "    <li> <a href=\"http://u.bw.org/ldc-iosstore\" target=\"_blank\">Distributing iOS Applications Through the App Store</a> <span class=\"small\">Feb 2011</span> </li>\n",
      "    <li> <a href=\"http://u.bw.org/ldc-macstore\" target=\"_blank\">Distributing Mac OSX Applications Through the App Store</a> <span class=\"small\">Feb 2011</span> </li>\n",
      "    <li> <a href=\"http://u.bw.org/ldc-ios4data\" target=\"_blank\">iOS SDK 4: Building Data-Driven Applications </a> <span class=\"small\">Dec 2010</span> </li>\n",
      "    <li> <a href=\"http://u.bw.org/ldc-sqlite3esst\" target=\"_blank\">SQLite 3 with PHP Essential Training</a> <span class=\"small \">Oct 2010</span> </li>\n",
      "    <li> <a href=\"http://u.bw.org/ldc-python3esst\" target=\"_blank\">Python 3 Essential Training</a>  <span class=\"small \"> Aug 2010 </span> </li>\n",
      "    <li> <a href=\"http://u.bw.org/ldc-perl5esst\" target=\"_blank\">Perl 5 Essential Training</a> <span class=\"small\"> Apr 2010 </span> </li>\n",
      "    <li> <a href=\"http://u.bw.org/ldc-css4dev\" target=\"_blank\">CSS For Developers</a> <span class=\"small\">Feb 2010</span> </li>\n",
      "    <li> <a href=\"http://u.bw.org/ldc-cgiesst\" target=\"_blank\">CGI Essential Training</a> <span class=\"small\">Jan 2010</span> </li>\n",
      "    <li> <a href=\"http://u.bw.org/ldc-dynamenus\" target=\"_blank\">Creating Dynamic Menus</a> <span class=\"small\">Dec 2009</span> </li>\n",
      "    <li> <a href=\"http://u.bw.org/ldc-css\" target=\"_blank\">CSS Positioning</a> <span class=\"small\">Aug 2009</span> </li>\n",
      "    <li> <a href=\"http://u.bw.org/ldc-mysql\" target=\"_blank\">MySQL Essential Training</a> <span class=\"small\">2009</span>  </li>\n",
      "    <li> <a href=\"http://u.bw.org/ldc-xhtml\" target=\"_blank\">XHTML/HTML Essential Training</a> <span class=\"small\">2009</span> </li>\n",
      "    <li> <a href=\"http://u.bw.org/ldc-sql\" target=\"_blank\">SQL Essential Training</a> <span class=\"small\">2009</span> </li>\n",
      "    <li> <a href=\"http://u.bw.org/ldc-spam\" target=\"_blank\">Managing Spam Essential Training</a> <span class=\"small\">2008</span> </li>\n",
      "</ul>\n",
      "\n",
      "<p>\n",
      "    If you have questions or comments about any of Bill's courses on lynda.com, please read the\n",
      "    <a href=\"/ldcfaq/\">lynda.com FAQ</a>\n",
      "    before\n",
      "    <a href=\"/contact/\">writing to him</a>\n",
      "    about them. \n",
      "</p>\n",
      "\n",
      "<h2>\n",
      "    <a href=\"http://bhg.bw.org/\" class=\"noshade\" target=\"_blank\">Contract Programming</a>\n",
      "</h2>\n",
      "\n",
      "<p>\n",
      "    After more than 30 years of working on long-term projects Bill has shifted his focus to\n",
      "    smaller jobs to better support his writing and open-source projects. \n",
      "</p>\n",
      "<p>\n",
      "    Please feel free to <a href=\"/contact/\">contact Bill</a> with your small project needs. \n",
      "</p>\n",
      "\n",
      "<h2>\n",
      "    <a href=\"http://whois.bw.org/\" class=\"noshade\" target=\"_blank\">BW Whois</a>\n",
      "</h2>\n",
      "\n",
      "<p>\n",
      "    <a href=\"http://whois.bw.org/\" target=\"_blank\">BW Whois</a> is Bill's open-source \n",
      "    whois client. Originally released in December 1999, and still in active development,\n",
      "    BW Whois has evolved into a full-featured\n",
      "    command-line/web client with rich security features, caching and database support.\n",
      "</p>\n",
      "\n",
      "<h2>\n",
      "    <a class=\"noshade\" href=\"/books/\" target=\"_blank\">Books and Writings</a>\n",
      "</h2>\n",
      "\n",
      "<p> \n",
      "Mr. Weinman has written five books, including\n",
      "<a href=\"http://www.cgibook.com/\" target=\"_blank\">The CGI Book</a> and,\n",
      "with his sister <a href=\"/u/ldc-lynda\" target=\"_blank\">Lynda</a>,\n",
      "<a href=\"http://www.htmlbook.com/\" target=_blank>Creative HTML Design</a>.\n",
      "He has contributed to other books on programming and web design and has written articles \n",
      "for various computer-related periodicals. Recently his writing has been focused on \n",
      "developing courseware for <a href=\"/u/ldc00 \" target=\"_blank\">lynda.com</a>.\n",
      "</p>\n",
      "\n",
      "<h2>\n",
      "    <a href=\"http://amtp.bw.org/\" class=\"noshade\" target=\"_blank\">AMTP</a>\n",
      "</h2>\n",
      "\n",
      "<p> \n",
      "<a href=\"http://amtp.bw.org/\" target=\"_blank\">AMTP</a>\n",
      "(Authenticated Mail Transfer Protocol) is Bill's solution to the SPAM problem. \n",
      "See the \n",
      "<a href=\"http://amtp.bw.org/\" target=\"_blank\">AMTP web site</a>\n",
      "for more information. \n",
      "</p>\n",
      "\n",
      "<h2>\n",
      "    <a href=\"http://music.bw.org/\" class=\"noshade\" target=\"_blank\">Bill's Music</a>\n",
      "</h2>\n",
      "\n",
      "<p>\n",
      "    Bill is an extremely talented guitarist and composer. While he has been focused \n",
      "    on non-music pursuits of late, you can always hear and download his music \n",
      "    <a href=\"http://music.bw.org/\" target=\"_blank\">here</a>. \n",
      "</p>\n",
      "\n",
      "<h2>\n",
      "    <a href=\"http://bearheart.wordpress.com/\" class=\"noshade\" target=\"_blank\">BearHeart</a>\n",
      "</h2>\n",
      "\n",
      "<p>\n",
      "    BearHeart is Bill's spiritual alter-ego. He is studying native american shamanic medicine \n",
      "    and has aspirations of becoming a teacher in the \n",
      "    <a href=\"http://www.dtmms.org/\" target=\"_blank\">Sweet Medicine Sundance</a> path. \n",
      "    BearHeart has recently begun a <a href=\"http://bearheart.wordpress.com/\" target=\"_blank\">blog</a>. \n",
      "</p>\n",
      "\n",
      "<h2>\n",
      "    <a href=\"http://blog.bw.org/\" class=\"noshade\" target=\"_blank\">Blog</a>\n",
      "</h2>\n",
      "\n",
      "<p> Bill occasionally scribbles in his \n",
      "<a href=\"http://blog.bw.org/\" target=\"_blank\">blog</a>. \n",
      "</p>\n",
      "\n",
      "<p class=small> <u>NOTE</u>: Because of Bill's\n",
      "<a href=\"http://whois.bw.org/\">bw-whois</a> program, some people seem \n",
      "to think that he has some control over the registration of domains. Unless you are a \n",
      "client or a personal friend, Bill \n",
      "<a href=\"http://whois.bw.org/registration-issues.html\">does not</a>\n",
      "have anything to do with your domain so please \n",
      "do not write to him about it (and please do not call him at home about it!) \n",
      "He cannot help you, and due to the surprisingly large volume of requests, he probably will not answer your message. \n",
      "</small>\n",
      "\n",
      "\n",
      "    </td></tr>\n",
      "    <tr><td colspan=2></td><td height=40 align=center valign=middle>\n",
      "      <table cellpadding=0 cellspacing=0 border=0>\n",
      "        <tr><td height=25></td></tr>\n",
      "        <tr><td bgcolor=\"#999999\" height=1></td></tr>\n",
      "        <tr><td align=center class=\"small\">Eezz beeg trouble for moose and squirrel.</td></tr>\n",
      "        <tr><td height=15></td></tr>\n",
      "        <tr><td align=center class=\"small\">At BHG Worldwide Headquarters it is now six till two, on Wednesday, 22 August 2018.\n",
      "</td></tr>\n",
      "        <tr><td height=15></td></tr>\n",
      "        <tr><td align=\"center\"><img src=\"https://i.bw.org/bw/yy-31.png\"\n",
      "          width=\"31\" height=\"31\" alt=\"&middot;/.\" title=\"&middot;/.\"></td></tr>\n",
      "      </table>\n",
      "    </td></tr>\n",
      "</table>\n",
      "</body>\n",
      "</html>\n",
      "\n",
      "\n",
      "\n"
     ]
    }
   ],
   "source": [
    "import urllib.request\n",
    "url = \"http://bw.org/\"\n",
    "page = urllib.request.urlopen(url)\n",
    "\n",
    "for line in page: print(str(line, encoding = 'utf_8'), end = '')"
   ]
  },
  {
   "cell_type": "code",
   "execution_count": 53,
   "metadata": {},
   "outputs": [
    {
     "name": "stdout",
     "output_type": "stream",
     "text": [
      "564\n",
      "[0, 1, 2, 3, 4, 5, 6, 7, 8, 9, 10, 11, 12, 13, 14, 15, 16, 17, 18, 19, 20, 21, 22, 23, 24]\n"
     ]
    }
   ],
   "source": [
    "import random\n",
    "\n",
    "print(random.randint(1, 1000))\n",
    "\n"
   ]
  },
  {
   "cell_type": "code",
   "execution_count": 56,
   "metadata": {},
   "outputs": [
    {
     "name": "stdout",
     "output_type": "stream",
     "text": [
      "[0, 1, 2, 3, 4, 5, 6, 7, 8, 9, 10, 11, 12, 13, 14, 15, 16, 17, 18, 19, 20, 21, 22, 23, 24]\n",
      "[23, 4, 15, 8, 5, 24, 7, 9, 10, 19, 22, 21, 1, 17, 0, 6, 3, 12, 18, 11, 14, 16, 13, 2, 20]\n"
     ]
    }
   ],
   "source": [
    "x = list(range(25))\n",
    "print(x)\n",
    "random.shuffle(x)\n",
    "print(x)"
   ]
  },
  {
   "cell_type": "code",
   "execution_count": 57,
   "metadata": {},
   "outputs": [
    {
     "name": "stdout",
     "output_type": "stream",
     "text": [
      "2017-06-07 18:25:55.802692\n"
     ]
    }
   ],
   "source": [
    "import datetime\n",
    "now = datetime.datetime.now()\n",
    "print(now)"
   ]
  },
  {
   "cell_type": "code",
   "execution_count": 58,
   "metadata": {},
   "outputs": [
    {
     "name": "stdout",
     "output_type": "stream",
     "text": [
      "2017 6 7\n"
     ]
    }
   ],
   "source": [
    "print(now.year, now.month, now.day)"
   ]
  },
  {
   "cell_type": "markdown",
   "metadata": {},
   "source": [
    "### conditions"
   ]
  },
  {
   "cell_type": "code",
   "execution_count": 1,
   "metadata": {},
   "outputs": [
    {
     "name": "stdout",
     "output_type": "stream",
     "text": [
      "it is number two\n"
     ]
    }
   ],
   "source": [
    "i = 2\n",
    "\n",
    "if i == 2:\n",
    "    print('it is number two')\n",
    "elif i % 2 == 0:\n",
    "    print('it is also an even number')\n",
    "else:\n",
    "    print('do not know')"
   ]
  },
  {
   "cell_type": "code",
   "execution_count": 3,
   "metadata": {},
   "outputs": [
    {
     "name": "stdout",
     "output_type": "stream",
     "text": [
      "it is number two\n",
      "it is also an even number\n"
     ]
    }
   ],
   "source": [
    "i = 2\n",
    "\n",
    "if i == 2:\n",
    "    print('it is number two')\n",
    "if i % 2 == 0:\n",
    "    print('it is also an even number')\n",
    "if i != 2:\n",
    "    print('do not know')"
   ]
  },
  {
   "cell_type": "code",
   "execution_count": null,
   "metadata": {
    "collapsed": true,
    "jupyter": {
     "outputs_hidden": true
    }
   },
   "outputs": [],
   "source": []
  }
 ],
 "metadata": {
  "kernelspec": {
   "display_name": "Python 3",
   "language": "python",
   "name": "python3"
  },
  "language_info": {
   "codemirror_mode": {
    "name": "ipython",
    "version": 3
   },
   "file_extension": ".py",
   "mimetype": "text/x-python",
   "name": "python",
   "nbconvert_exporter": "python",
   "pygments_lexer": "ipython3",
   "version": "3.6.7"
  }
 },
 "nbformat": 4,
 "nbformat_minor": 4
}
